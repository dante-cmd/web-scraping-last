{
 "cells": [
  {
   "attachments": {},
   "cell_type": "markdown",
   "metadata": {},
   "source": [
    "# Dev Tools"
   ]
  },
  {
   "attachments": {},
   "cell_type": "markdown",
   "metadata": {},
   "source": [
    "DevTools provides a powerful way to inspect and debug webpages and web apps. You can even edit source files and create website projects, all within the DevTools environment.\n",
    "\n",
    "\n",
    "With DevTools, you can do the following:\n",
    "- Inspect, tweak, and change the styles of elements in the webpage using live tools with a visual interface. Inspect where the browser stored content to construct the webpage, including .html, .css, .js, and .png file formats.\n",
    "\n",
    "Each Browser has its own DevTools. \n",
    "- Google Chrome $\\rightarrow$ Chrome DevTools\n",
    "- Firefox $\\rightarrow$ Firefox DevTools \n",
    "- Edge $\\rightarrow$ Edge DevTools "
   ]
  },
  {
   "attachments": {},
   "cell_type": "markdown",
   "metadata": {},
   "source": [
    "#### How to work DevTools\n",
    "\n",
    "https://www.youtube.com/watch?v=RDi2snh8bpA"
   ]
  },
  {
   "attachments": {},
   "cell_type": "markdown",
   "metadata": {},
   "source": [
    "### Mozilla Firefox"
   ]
  },
  {
   "attachments": {},
   "cell_type": "markdown",
   "metadata": {},
   "source": [
    "More information about *Gecko engine* in https://wiki.mozilla.org/Gecko:Overview\n",
    "\n",
    "`Parser`:The parser's job is to transform a character stream into a tree structure\n",
    "`DOM / Content`: The content tree or DOM tree is the central data structure for Web pages. It created from tree structure. The `nodes` of the tree implement many of feats DOM (Document Object Model). There are many API's to handle nodes. DOM nodes can be accessed only from the main thread (also known as the UI thread (user interface thread)) of the application."
   ]
  },
  {
   "attachments": {},
   "cell_type": "markdown",
   "metadata": {},
   "source": [
    "Mozilla Firefox uses the `Gecko rendering engine` to display web pages, which implements current and anticipated web standards"
   ]
  },
  {
   "attachments": {},
   "cell_type": "markdown",
   "metadata": {},
   "source": [
    "Add more information"
   ]
  },
  {
   "cell_type": "code",
   "execution_count": null,
   "metadata": {},
   "outputs": [],
   "source": []
  },
  {
   "attachments": {},
   "cell_type": "markdown",
   "metadata": {},
   "source": [
    "<div align=\"center\">\n",
    "<img src=\".\\assets\\dev-tools.png\" height=\"220\">\n",
    "</div>"
   ]
  },
  {
   "attachments": {},
   "cell_type": "markdown",
   "metadata": {},
   "source": [
    "The **protocol** consists of a *command message* and the corresponding *response message*. A *response message* must always be sent in reply to a *command message*. \n",
    "\n",
    "This protocol is asynchronous. This means that the server implementation does not need to send the reply precisely in the order of the received commands"
   ]
  },
  {
   "attachments": {},
   "cell_type": "markdown",
   "metadata": {},
   "source": [
    "**Command**\n",
    "\n",
    "The request, or command message, is a four element JSON Array. `[type, message ID, command, parameters]`\n",
    "\n",
    "**Response**\n",
    "\n",
    "The response message is also a four element array as shown below, and must always be sent after receiving a command.\n",
    "`[type, message ID, error, result]`"
   ]
  },
  {
   "attachments": {},
   "cell_type": "markdown",
   "metadata": {},
   "source": [
    "More information about *Marionette* https://firefox-source-docs.mozilla.org/testing/marionette/Intro.html"
   ]
  },
  {
   "attachments": {},
   "cell_type": "markdown",
   "metadata": {},
   "source": [
    "### For Chrome"
   ]
  },
  {
   "attachments": {},
   "cell_type": "markdown",
   "metadata": {},
   "source": [
    "When we pass in the console \n",
    "\n",
    "`$x(\"//A\")`"
   ]
  },
  {
   "attachments": {},
   "cell_type": "markdown",
   "metadata": {},
   "source": [
    "The requests is \n",
    "\n",
    "```json\n",
    "{\n",
    "    \"expression\": \"$x(\\\"//A\\\")\",\n",
    "    \"objectGroup\": \"console\",\n",
    "    \"includeCommandLineAPI\": true,\n",
    "    \"silent\": false,\n",
    "    \"returnByValue\": false,\n",
    "    \"generatePreview\": true,\n",
    "    \"userGesture\": true,\n",
    "    \"awaitPromise\": false,\n",
    "    \"replMode\": true,\n",
    "    \"allowUnsafeEvalBlockedByCSP\": false,\n",
    "    \"uniqueContextId\": \"-3112485480214964754.8582067574271259539\"\n",
    "}\n",
    "```\n",
    "\n",
    "Where the method applied is `Runtime.evaluate`\n"
   ]
  },
  {
   "attachments": {},
   "cell_type": "markdown",
   "metadata": {},
   "source": [
    "The response is "
   ]
  },
  {
   "attachments": {},
   "cell_type": "markdown",
   "metadata": {},
   "source": [
    "```json\n",
    "{\n",
    "    \"type\": \"object\",\n",
    "    \"subtype\": \"array\",\n",
    "    \"className\": \"Array\",\n",
    "    \"description\": \"Array(102)\",\n",
    "    \"objectId\": \"-9063478504345182733.18.4\",\n",
    "    \"preview\": {\n",
    "        \"type\": \"object\",\n",
    "        \"subtype\": \"array\",\n",
    "        \"description\": \"Array(102)\",\n",
    "        \"overflow\": true,\n",
    "        \"properties\": [\n",
    "            {\n",
    "                \"name\": \"0\",\n",
    "                \"type\": \"object\",\n",
    "                \"value\": \"a.icon.icon-home\",\n",
    "                \"subtype\": \"node\"\n",
    "            },\n",
    "            {\n",
    "                \"name\": \"1\",\n",
    "                \"type\": \"object\",\n",
    "                \"value\": \"a.gsst_a\",\n",
    "                \"subtype\": \"node\"\n",
    "            },\n",
    "            {\n",
    "                \"name\": \"2\",\n",
    "                \"type\": \"object\",\n",
    "                \"value\": \"a.reference.internal\",\n",
    "                \"subtype\": \"node\"\n",
    "            },\n",
    "            ...\n",
    "            {\n",
    "                \"name\": \"99\",\n",
    "                \"type\": \"object\",\n",
    "                \"value\": \"a\",\n",
    "                \"subtype\": \"node\"\n",
    "            }\n",
    "        ]\n",
    "    }\n",
    "}\n",
    "\n",
    "```"
   ]
  },
  {
   "attachments": {},
   "cell_type": "markdown",
   "metadata": {},
   "source": [
    "Similar works in Firefox"
   ]
  }
 ],
 "metadata": {
  "kernelspec": {
   "display_name": "base",
   "language": "python",
   "name": "python3"
  },
  "language_info": {
   "codemirror_mode": {
    "name": "ipython",
    "version": 3
   },
   "file_extension": ".py",
   "mimetype": "text/x-python",
   "name": "python",
   "nbconvert_exporter": "python",
   "pygments_lexer": "ipython3",
   "version": "3.9.7 (default, Sep 16 2021, 16:59:28) [MSC v.1916 64 bit (AMD64)]"
  },
  "orig_nbformat": 4,
  "vscode": {
   "interpreter": {
    "hash": "7679c2132d3f6ce38c9df14d554b39c06862b36a4e6689c81f9ae15bd0911d7d"
   }
  }
 },
 "nbformat": 4,
 "nbformat_minor": 2
}
