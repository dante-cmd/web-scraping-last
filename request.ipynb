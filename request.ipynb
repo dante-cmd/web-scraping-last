{
 "cells": [
  {
   "cell_type": "markdown",
   "metadata": {},
   "source": [
    "# API's\n",
    "\n",
    "* Application Programming Interface, it can refer to python files or functions.\n",
    "\n",
    "* In actually they are third party services that we can use write some code to talk with them.\n",
    "\n",
    "* We can connect to that third party API and download on a server and download adn incorporate in our program. \n",
    "\n",
    "* e.g. `request`"
   ]
  },
  {
   "cell_type": "markdown",
   "metadata": {},
   "source": [
    "## Request\n",
    "What is HTTP?\n",
    "\n",
    "The Hypertext Transfer Protocol (HTTP) is designed to enable communications between clients and servers.\n",
    "\n",
    "HTTP works as a request-response protocol between a client and server.\n",
    "\n",
    "Example: A client (browser) sends an HTTP request to the server; then the server returns a response to the client. The response contains status information about the request and may also contain the requested content."
   ]
  },
  {
   "cell_type": "code",
   "execution_count": 2,
   "metadata": {},
   "outputs": [],
   "source": [
    "import requests\n",
    "from pathlib import Path"
   ]
  },
  {
   "cell_type": "code",
   "execution_count": 12,
   "metadata": {},
   "outputs": [
    {
     "name": "stdout",
     "output_type": "stream",
     "text": [
      "status code 200\n"
     ]
    }
   ],
   "source": [
    "response = requests.get(r'https://api.github.com/')\n",
    "print('status code' , response.status_code)"
   ]
  },
  {
   "cell_type": "markdown",
   "metadata": {},
   "source": [
    "A `200` status means that your request was successful, whereas a `404` status means that the resource you were looking for was not found.\n",
    "\n",
    "Others responses https://en.wikipedia.org/wiki/List_of_HTTP_status_codes\n",
    "\n",
    "Requests will automatically decode content from the server. (using `unicode`)"
   ]
  },
  {
   "cell_type": "code",
   "execution_count": 18,
   "metadata": {},
   "outputs": [
    {
     "name": "stdout",
     "output_type": "stream",
     "text": [
      "response text:  {\"current_user_url\":\"https://api.github.com/user\",\"current_user_authorizations_html_url\":\"https://gi\n",
      "response binary:  b'{\"current_user_url\":\"https://api.github.com/user\",\"current_user_authorizations_html_url\":\"https://gi'\n"
     ]
    }
   ],
   "source": [
    "# If we want to see the data in string type encoding using unicode.\n",
    "# response.encoding = 'ISO-8859-1' #\n",
    "# we can change the encoding, but unicode works well.\n",
    "print(\"response text: \" , response.text[:100])\n",
    "\n",
    "# If we want to get the data in binary type. \n",
    "# This is useful when IMG, gzip, and  others.\n",
    "print(\"response binary: \",response.content[:100])"
   ]
  },
  {
   "cell_type": "code",
   "execution_count": 19,
   "metadata": {},
   "outputs": [
    {
     "name": "stdout",
     "output_type": "stream",
     "text": [
      "response status 200\n",
      "Image saved!\n"
     ]
    },
    {
     "data": {
      "image/jpeg": "[encoded data removed]",
      "text/plain": [
       "<IPython.core.display.Image object>"
      ]
     },
     "execution_count": 19,
     "metadata": {},
     "output_type": "execute_result"
    }
   ],
   "source": [
    "# request a image from a url\n",
    "response = requests.get('https://www.crummy.com/software/BeautifulSoup/bs4/doc/_images/6.1.jpg')\n",
    "print('response status', response.status_code)\n",
    "\n",
    "# to save the image to a file\n",
    "if response.status_code == 200:\n",
    "    with open('6.1.jpg', 'wb') as f:\n",
    "        f.write(response.content)\n",
    "        f.close()\n",
    "        print('Image saved!')\n",
    "\n",
    "# if we want to display the image in the browser, we can use the following code:\n",
    "from IPython import display\n",
    "display.Image(response.content)"
   ]
  },
  {
   "cell_type": "code",
   "execution_count": 30,
   "metadata": {},
   "outputs": [],
   "source": [
    "from pathlib import Path\n",
    "\n",
    "path_init =  Path()\n",
    "\n",
    "if not (path_init/'tracks').exists():\n",
    "    (path_init/'tracks').mkdir()\n",
    "    for year in range(1, 2):\n",
    "        url_mp3 = rf'https://barronsbooks.com/tp/ielts/audio/d83rd2/Track%200{year}.mp3'\n",
    "        file_mp3 = requests.get(url_mp3)\n",
    "        # get the content of the file\n",
    "        file_mp3_cont = file_mp3.content\n",
    "        with open(rf'tracks/Track_{year}.mp3', 'wb') as file_mp3:\n",
    "            file_mp3.write(file_mp3_cont)"
   ]
  },
  {
   "cell_type": "markdown",
   "metadata": {},
   "source": [
    "* `headers` can give you useful information, such as the content type of the response payload and a time limit on how long to cache the response"
   ]
  },
  {
   "cell_type": "code",
   "execution_count": 39,
   "metadata": {},
   "outputs": [
    {
     "name": "stdout",
     "output_type": "stream",
     "text": [
      "{'Date': 'Fri, 08 Jul 2022 22:41:11 GMT', 'Server': 'Apache/2.4.18 (Ubuntu) OpenSSL/1.0.2g mod_wsgi/4.3.0 Python/2.7.12', 'Last-Modified': 'Fri, 08 Apr 2005 01:32:45 GMT', 'ETag': '\"585b-3f432cd988940\"', 'Accept-Ranges': 'bytes', 'Content-Length': '22619', 'Keep-Alive': 'timeout=15, max=100', 'Connection': 'Keep-Alive', 'Content-Type': 'image/jpeg'}\n",
      "content type:  image/jpeg\n"
     ]
    }
   ],
   "source": [
    "print(response.headers)\n",
    "print(\"content type: \",response.headers['Content-Type'])"
   ]
  },
  {
   "cell_type": "markdown",
   "metadata": {},
   "source": [
    "If we are working with json file this can be decode in thsi format"
   ]
  },
  {
   "cell_type": "code",
   "execution_count": 42,
   "metadata": {},
   "outputs": [
    {
     "name": "stdout",
     "output_type": "stream",
     "text": [
      "{'fruit': 'Apple', 'size': 'Large', 'color': 'Red'}\n"
     ]
    }
   ],
   "source": [
    "resp = requests.get('https://filesamples.com/samples/code/json/sample1.json')\n",
    "if resp.status_code == 200:\n",
    "    print(resp.json())\n",
    "    # In case the JSON decoding fails, resp.json() raises an exception"
   ]
  },
  {
   "cell_type": "markdown",
   "metadata": {},
   "source": [
    "### Header\n",
    "\n",
    "* In header we can change the `user-agent`. The main problem to get an error 403 Forbidden"
   ]
  },
  {
   "cell_type": "code",
   "execution_count": 43,
   "metadata": {},
   "outputs": [],
   "source": [
    "url = 'https://inkafarma.pe/'\n",
    "headers = {'User-Agent': 'Mozilla/5.0 (Macintosh; Intel Mac OS X 10_11_5) AppleWebKit/537.36 (KHTML, like Gecko) Chrome/50.0.2661.102 Safari/537.36'}\n",
    "result = requests.get(url, headers=headers)"
   ]
  },
  {
   "cell_type": "code",
   "execution_count": 46,
   "metadata": {},
   "outputs": [
    {
     "data": {
      "text/plain": [
       "'<!doctype html>\\n<html lang=\"es\">\\n<head>\\n  <meta name=\"language\" content=\"es-PE\">\\n  <meta charset=\"ut'"
      ]
     },
     "execution_count": 46,
     "metadata": {},
     "output_type": "execute_result"
    }
   ],
   "source": [
    "result.text[:100]"
   ]
  },
  {
   "cell_type": "markdown",
   "metadata": {},
   "source": [
    "## Parameters"
   ]
  },
  {
   "cell_type": "markdown",
   "metadata": {},
   "source": [
    "Given the `url` original `https://www.google.com/search` if we include this paramms `params`: `{'q':'facebook'}` with  This will result in a `new url` like `https://www.google.com/search?q=facebook`.\n",
    "\n",
    "* Here `q` means query for Google. "
   ]
  },
  {
   "cell_type": "code",
   "execution_count": 74,
   "metadata": {},
   "outputs": [
    {
     "data": {
      "text/plain": [
       "'https://www.google.com/search?q=facebook'"
      ]
     },
     "execution_count": 74,
     "metadata": {},
     "output_type": "execute_result"
    }
   ],
   "source": [
    "response = requests.get('https://www.google.com/search', params={'q':'facebook'})\n",
    "response.status_code\n",
    "response.url"
   ]
  },
  {
   "cell_type": "markdown",
   "metadata": {},
   "source": [
    "Google Search URL Request Parameters\n",
    "\n",
    "* Applications: `tbm`=app\n",
    "* Books: `tbm`=bks\n",
    "* Images: `tbm`=isch\n",
    "* News: `tbm`=nws\n",
    "* Patents: `tbm`=pts\n",
    "* Video: `tbm`=vid"
   ]
  },
  {
   "cell_type": "markdown",
   "metadata": {},
   "source": [
    "Acerca de los parametro de Google\n",
    "\n",
    "* https://support.google.com/google-ads/answer/6277564?hl=es-419\n",
    "\n",
    "Search url parametes\n",
    "\n",
    "* https://stenevang.wordpress.com/2013/02/22/google-advanced-power-search-url-request-parameters/\n",
    "\n",
    "More aboat of paramans\n",
    "\n",
    "* https://serpapi.com/search-api"
   ]
  },
  {
   "cell_type": "code",
   "execution_count": 77,
   "metadata": {},
   "outputs": [
    {
     "data": {
      "text/plain": [
       "'https://www.google.com/search?q=minecraft+shaders+8k+photo&tbm=isch&ijn=0.1'"
      ]
     },
     "execution_count": 77,
     "metadata": {},
     "output_type": "execute_result"
    }
   ],
   "source": [
    "params = {\n",
    "    \"q\": \"minecraft shaders 8k photo\",\n",
    "    \"tbm\": \"isch\",\n",
    "    \"ijn\": \"0\",\n",
    "}\n",
    "\n",
    "html = requests.get(\"https://www.google.com/search\", params=params,)\n",
    "html.url"
   ]
  },
  {
   "cell_type": "code",
   "execution_count": 75,
   "metadata": {},
   "outputs": [
    {
     "name": "stdout",
     "output_type": "stream",
     "text": [
      "https://httpbin.org/get?key1=value1&key2=value2\n",
      "https://httpbin.org/get?key1=value1&key2=value2&key2=val3\n"
     ]
    }
   ],
   "source": [
    "# An general example \n",
    "\n",
    "payload = {'key1': 'value1', 'key2': 'value2'}\n",
    "r = requests.get('https://httpbin.org/get', params=payload)\n",
    "print(r.url)\n",
    "\n",
    "# But a key can be have to values\n",
    "payload = {'key1': 'value1', 'key2': ['value2', 'value3']}\n",
    "r = requests.get('https://httpbin.org/get', params=payload)\n",
    "print(r.url)"
   ]
  },
  {
   "cell_type": "code",
   "execution_count": null,
   "metadata": {},
   "outputs": [
    {
     "name": "stdout",
     "output_type": "stream",
     "text": [
      "URL https://api.github.com/search/repositories?q=requests%2Blanguage%3Apython\n",
      "Repository name: grequests\n",
      "Repository description: Requests + Gevent = <3\n"
     ]
    }
   ],
   "source": [
    "import requests\n",
    "\n",
    "# Search GitHub's repositories for requests\n",
    "response = requests.get(\n",
    "    'https://api.github.com/search/repositories',\n",
    "    params={'q': 'requests+language:python'},\n",
    ")\n",
    "\n",
    "print('URL',response.url)\n",
    "# Inspect some attributes of the `requests` repository\n",
    "json_response = response.json()\n",
    "repository = json_response['items'][0]\n",
    "print(f'Repository name: {repository[\"name\"]}')  # Python 3.6+\n",
    "print(f'Repository description: {repository[\"description\"]}')  # Python 3.6+"
   ]
  },
  {
   "cell_type": "markdown",
   "metadata": {},
   "source": [
    "### To post data in format json"
   ]
  },
  {
   "cell_type": "code",
   "execution_count": 53,
   "metadata": {},
   "outputs": [
    {
     "data": {
      "text/plain": [
       "<Response [200]>"
      ]
     },
     "execution_count": 53,
     "metadata": {},
     "output_type": "execute_result"
    }
   ],
   "source": [
    "url  = 'http://...my_web.com' # when we create one we will post\n",
    "headers = {'User-Agent': 'Mozilla/5.0 (Macintosh; Intel Mac OS X 10_11_5) AppleWebKit/537.36 (KHTML, like Gecko) Chrome/50.0.2661.102 Safari/537.36'}\n",
    "payload = {'key1': 'value1', 'key2': 'value2'}\n",
    "post_json = requests.get(url, headers=headers, json=payload)\n",
    "post_json\n",
    "\n",
    "# to post data on a webpage in json data type\n",
    "# don't work since the link is failed"
   ]
  },
  {
   "cell_type": "code",
   "execution_count": null,
   "metadata": {},
   "outputs": [],
   "source": [
    "resp = requests.get(post_json.url, headers=headers)"
   ]
  },
  {
   "cell_type": "markdown",
   "metadata": {},
   "source": [
    "https://realpython.com/python-requests/\n",
    "\n",
    "https://docs.python-requests.org/en/latest/"
   ]
  },
  {
   "cell_type": "markdown",
   "metadata": {},
   "source": [
    "# os"
   ]
  },
  {
   "cell_type": "code",
   "execution_count": null,
   "metadata": {},
   "outputs": [],
   "source": [
    "import os, glob, pathlib\n",
    "import re"
   ]
  },
  {
   "cell_type": "code",
   "execution_count": null,
   "metadata": {},
   "outputs": [],
   "source": [
    "WD_FILE = os.getcwd()  # Working Directory where the file is running\n",
    "print(WD_FILE)"
   ]
  },
  {
   "cell_type": "code",
   "execution_count": null,
   "metadata": {},
   "outputs": [],
   "source": [
    "print('Current Directory: ' , os.getcwd())      # current directory\n",
    "print( 'List of files in cwd: ',os.listdir())   # list of files in cwd"
   ]
  },
  {
   "cell_type": "code",
   "execution_count": null,
   "metadata": {},
   "outputs": [],
   "source": [
    "new_path = r'C:\\Users\\LENOVO\\Desktop\\python_course\\jupyter'\n",
    "print( 'choose a new wd (working directory): ' ,new_path)              \n",
    "os.chdir(new_path)"
   ]
  },
  {
   "cell_type": "code",
   "execution_count": null,
   "metadata": {},
   "outputs": [],
   "source": [
    "os.chdir(WD_FILE) # came back where the file is running."
   ]
  },
  {
   "cell_type": "markdown",
   "metadata": {},
   "source": [
    "`os.walk()` generate the file names in a directory tree by walking the tree either top-down or bottom-up. For each directory in the tree rooted at directory top (including top itself), it yields a 3-tuple (dirpath, dirnames, filenames).\n",
    "\n",
    "* root : Prints out directories only from what you specified.\n",
    "* dirs : Prints out sub-directories from root.\n",
    "* files : Prints out all files from root and directories."
   ]
  },
  {
   "cell_type": "code",
   "execution_count": null,
   "metadata": {},
   "outputs": [],
   "source": [
    "for root, dirs, files in os.walk(r'C:\\Users\\LENOVO\\Desktop\\python_course\\datascience\\web_scraping', topdown=True):\n",
    "    files_str = '-'.join(files)\n",
    "    \n",
    "    if re.search(r'web_scraping.*\\.(?:txt|rtf)', files_str):\n",
    "        print(root)     # in Spanish is ruta\n",
    "        print(dirs)     # in spanish is carpetas\n",
    "        print(files)    # \n",
    "        print('-------')"
   ]
  },
  {
   "cell_type": "markdown",
   "metadata": {},
   "source": [
    "To create new dir, first we have to expand the user with the name if dir."
   ]
  },
  {
   "cell_type": "code",
   "execution_count": null,
   "metadata": {},
   "outputs": [],
   "source": [
    "os.path.expanduser(r'some_data')\n",
    "\n",
    "if not os.path.exists('.\\some_data'): # if not existe the dir, we create\n",
    "    os.makedirs('.\\some_data')"
   ]
  },
  {
   "cell_type": "markdown",
   "metadata": {},
   "source": [
    "# Path\n",
    "`pathlib`\n"
   ]
  },
  {
   "cell_type": "code",
   "execution_count": null,
   "metadata": {},
   "outputs": [],
   "source": [
    "from pathlib import Path"
   ]
  },
  {
   "cell_type": "code",
   "execution_count": null,
   "metadata": {},
   "outputs": [],
   "source": [
    "path_some_01 =Path('some_data_01')\n",
    "path_some_01.mkdir(parents=True, exist_ok=True)"
   ]
  },
  {
   "cell_type": "code",
   "execution_count": null,
   "metadata": {},
   "outputs": [],
   "source": [
    "data_gh = \"\"\"'This is Love' is\n",
    "a song of George Harrison\n",
    "\"\"\""
   ]
  },
  {
   "cell_type": "code",
   "execution_count": null,
   "metadata": {},
   "outputs": [],
   "source": [
    "name_file = 'my_data.txt'\n",
    "if not (path_some_01/name_file).exists():\n",
    "    # print((path_some_01/name_file).absolute())\n",
    "    (path_some_01/name_file).open('w').write(data_gh)"
   ]
  }
 ],
 "metadata": {
  "kernelspec": {
   "display_name": "Python 3.9.7 ('base')",
   "language": "python",
   "name": "python3"
  },
  "language_info": {
   "codemirror_mode": {
    "name": "ipython",
    "version": 3
   },
   "file_extension": ".py",
   "mimetype": "text/x-python",
   "name": "python",
   "nbconvert_exporter": "python",
   "pygments_lexer": "ipython3",
   "version": "3.9.7"
  },
  "orig_nbformat": 4,
  "vscode": {
   "interpreter": {
    "hash": "7679c2132d3f6ce38c9df14d554b39c06862b36a4e6689c81f9ae15bd0911d7d"
   }
  }
 },
 "nbformat": 4,
 "nbformat_minor": 2
}
