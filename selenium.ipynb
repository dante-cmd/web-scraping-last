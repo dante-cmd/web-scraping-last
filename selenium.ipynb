{
 "cells": [
  {
   "cell_type": "markdown",
   "metadata": {},
   "source": [
    "# Selenium"
   ]
  },
  {
   "cell_type": "markdown",
   "metadata": {},
   "source": [
    "``Selenium`` is a set of widely popular tools used to automate tasks in browsers. \n",
    "\n",
    "It is largely used to test applications, but its usages are not limited to testing. It can also be used to perform\n",
    "screen scraping and automate repetitive tasks in a browser window.\n",
    "\n",
    "Selenium 3.0 offers three important tools, `Selenium WebDriver`, `Selenium Server`, and `Selenium IDE`"
   ]
  },
  {
   "cell_type": "markdown",
   "metadata": {},
   "source": [
    "<div align = \"center\">\n",
    "    <img src = \"https://3fxtqy18kygf3on3bu39kh93-wpengine.netdna-ssl.com/wp-content/uploads/2020/03/Remote-Webdriver-Implementation.png\" height=300>\n",
    "</div>"
   ]
  },
  {
   "cell_type": "markdown",
   "metadata": {},
   "source": [
    "### Selenium WebDriver\n",
    "A `WebDriver` drives a browsers using selenium server.\n",
    "\n",
    "How it works?\n",
    "\n",
    "* Selenium set up a server (local)\n",
    "* A WebDriver convert our requests to format that a browser can understand\n",
    "* The browser sents our requests and the responses come back throught the chain"
   ]
  },
  {
   "cell_type": "markdown",
   "metadata": {},
   "source": [
    "### Install "
   ]
  },
  {
   "cell_type": "markdown",
   "metadata": {},
   "source": [
    "with *conda*\n",
    " * `conda install -c conda-forge selenium`"
   ]
  },
  {
   "cell_type": "markdown",
   "metadata": {},
   "source": [
    "with *pip*\n",
    "* `pip install selenium`"
   ]
  },
  {
   "cell_type": "markdown",
   "metadata": {},
   "source": [
    "Download the `webdriver` for the browser Firefox\n",
    "\n",
    "* https://github.com/mozilla/geckodriver/releases/download/v0.31.0/geckodriver-v0.31.0-win64.zip\n",
    "* https://github.com/mozilla/geckodriver/releases/download/v0.31.0/geckodriver-v0.31.0-win32.zip"
   ]
  },
  {
   "cell_type": "markdown",
   "metadata": {},
   "source": [
    "In `Local Dick C` make a folder called `dmozilla` and paste the file ``exe`` extracted from the zip."
   ]
  },
  {
   "cell_type": "code",
   "execution_count": 2,
   "metadata": {},
   "outputs": [],
   "source": [
    "# Selenium\n",
    "from selenium import webdriver\n",
    "from selenium.webdriver.common.by import By\n",
    "from selenium.webdriver.support.ui import WebDriverWait, Select\n",
    "from selenium.webdriver.support import expected_conditions as EC\n",
    "from selenium.common.exceptions import TimeoutException, StaleElementReferenceException, NoSuchElementException\n",
    "from selenium.common.exceptions import ElementClickInterceptedException, WebDriverException"
   ]
  },
  {
   "cell_type": "code",
   "execution_count": 3,
   "metadata": {},
   "outputs": [],
   "source": [
    "# Others\n",
    "import time\n",
    "from pathlib import Path\n",
    "from urllib.parse import urljoin\n",
    "import requests\n",
    "from lxml.html import fromstring, tostring"
   ]
  },
  {
   "cell_type": "code",
   "execution_count": 4,
   "metadata": {},
   "outputs": [],
   "source": [
    "from selenium.webdriver.firefox.service import Service\n",
    "from selenium.webdriver.firefox.options import Options"
   ]
  },
  {
   "cell_type": "code",
   "execution_count": 7,
   "metadata": {},
   "outputs": [],
   "source": [
    "from dotenv import dotenv_values"
   ]
  },
  {
   "cell_type": "code",
   "execution_count": 10,
   "metadata": {},
   "outputs": [],
   "source": [
    "config = dotenv_values('./env/.env')"
   ]
  },
  {
   "cell_type": "code",
   "execution_count": 12,
   "metadata": {},
   "outputs": [
    {
     "name": "stdout",
     "output_type": "stream",
     "text": [
      "Google\n",
      "Cheese! - Buscar con Google\n"
     ]
    }
   ],
   "source": [
    "# Set the path of the webdriver\n",
    "driver_path = config['DRIVER_PATH']\n",
    "ser = Service(driver_path)\n",
    "opt = Options()\n",
    "\n",
    "# selenium without opening browser \n",
    "#  opt.headless = True\n",
    "\n",
    "# Create a new instance of the Firefox driver\n",
    "driver = webdriver.Firefox(service=ser, options=opt)\n",
    "\n",
    "# go to the google home page\n",
    "driver.get(config['GOOGLE_PATH'])\n",
    "\n",
    "# find the element that’s name attribute is q (the google search box)\n",
    "inputElement = driver.find_element(By.NAME, value = \"q\")\n",
    "\n",
    "# type in the search\n",
    "inputElement.send_keys(\"Cheese!\")\n",
    "\n",
    "# submit the form (although google automatically searches now without submitting)\n",
    "inputElement.submit()\n",
    "\n",
    "# the page is ajaxy so the title is originally this:\n",
    "print(driver.title)\n",
    "\n",
    "# we have to wait for the page to refresh, the last thing that seems to be updated i\n",
    "try:\n",
    "    WebDriverWait(driver, 10).until(lambda driver : driver.title.lower().startswith('ch'))\n",
    "    # You should see \"cheese! - Google Search\"\n",
    "    print(driver.title)\n",
    "    time.sleep(5)\n",
    "    driver.quit()\n",
    "\n",
    "except:\n",
    "    time.sleep(5)\n",
    "    driver.quit()"
   ]
  },
  {
   "cell_type": "markdown",
   "metadata": {},
   "source": [
    "## Selenium-WebDriver API Commands and Operations"
   ]
  },
  {
   "cell_type": "markdown",
   "metadata": {},
   "source": [
    "### Fetching a Page\n",
    "\n",
    "The first thing you’re likely to want to do with WebDriver is navigate to a page. The normal way to do this is by calling `get`\n",
    "\n",
    "`driver.get(\"http://www.google.com\")`\n",
    "\n",
    "To ensure robustness, you need to wait for the element(s) to exist in the page using Explicit and Implicit Waits."
   ]
  },
  {
   "cell_type": "markdown",
   "metadata": {},
   "source": [
    "### Locating UI Elements (WebElements)"
   ]
  },
  {
   "cell_type": "markdown",
   "metadata": {},
   "source": [
    "Locating elements in WebDriver can be done on the WebDriver instance itself or on a WebElement.\n",
    "\n",
    "Each of the language bindings expose a `Find Element` and `Find Elements` method. \n",
    "\n",
    "The first returns a WebElement object otherwise it throws an exception. The latter returns a list of WebElements, it can\n",
    "return an empty list if no DOM elements match the query.\n",
    "\n",
    "The `Find` methods take a locator or query object called `By`"
   ]
  },
  {
   "cell_type": "markdown",
   "metadata": {},
   "source": [
    "*By ID* - This is the most efficient and preferred way to locate an element, but not all have an ID.\n",
    "\n",
    "*By Name* - Find the input element with matching name attribute.\n",
    "\n",
    "*By Link Text* - Find the link element with matching visible text.\n",
    "\n",
    "*By Partial Link Text*\n",
    "\n",
    "*By Class*- Name 'Class' in this case refers to the attribute on the DOM element (A DOM element is something like a DIV, HTML, BODY element on a page). \n",
    "\n",
    "  Often in practical use there are many DOM elements with the same class name, thus finding multiple elements becomes the more practical option over finding the first element\n",
    "\n",
    "*By Tag Name* \n",
    "\n",
    "* `<a>`:  defines a hyperlink, which is used to link from one page to another. The most important attribute of the `<a>` element is the `href` attribute.\n",
    "\n",
    "* `<div>` : defines a division or a section in an HTML document.\n",
    "\n",
    "* `<img>`: is used to embed an image in an HTML page. Images are not technically inserted into a web page; images are linked to web pages\n",
    "\n",
    "* `<ul>`: defines an unordered (bulleted) list. Use the `<ul>` tag together with the `<li>` tag to create unordered lists."
   ]
  },
  {
   "cell_type": "markdown",
   "metadata": {},
   "source": [
    "By XPATH\n"
   ]
  },
  {
   "cell_type": "markdown",
   "metadata": {},
   "source": [
    "Scraping public data.\n",
    "\n",
    "INEI, a Peruvian institution that provide statistics data about how Peruvian economy behaviour.    "
   ]
  },
  {
   "cell_type": "code",
   "execution_count": 5,
   "metadata": {},
   "outputs": [],
   "source": [
    "# Set the path of the webdriver\n",
    "driver_path = config['DRIVER_PATH']\n",
    "ser = Service(driver_path)\n",
    "opt = Options()\n",
    "\n",
    "# Create a new instance of the Firefox driver\n",
    "driver = webdriver.Firefox(service=ser, options=opt)\n",
    "\n",
    "# Go to the google home page\n",
    "driver.get(config['INEI_PATH'])\n",
    "\n",
    "time.sleep(3)\n",
    "\n",
    "# Find the element that’s href attribute contains `ConsultaPorEncuesta`\n",
    "try:\n",
    "    inputElement = driver.find_element(\n",
    "        By.XPATH,\n",
    "        value=\"//ul[@id='jsmenu']//a[contains(@href,'ConsultaPorEncuesta')]\")\n",
    "\n",
    "# If the element is not founded, raise an exeception\n",
    "except NoSuchElementException as e:\n",
    "    print(e.msg)\n",
    "\n",
    "# click in the element\n",
    "inputElement.click()\n",
    "\n",
    "time.sleep(2)\n",
    "\n",
    "# close\n",
    "driver.quit()"
   ]
  },
  {
   "cell_type": "markdown",
   "metadata": {},
   "source": [
    "Here, we use tag `ul` and their attribute `id` in order to localice a point of reference. Then we pass their child by `li` tag and then, localice `a` tag where the text contains Encuestas."
   ]
  },
  {
   "cell_type": "markdown",
   "metadata": {},
   "source": [
    "### User Input - Filling In Forms"
   ]
  },
  {
   "cell_type": "markdown",
   "metadata": {},
   "source": [
    "The best way to learn to fill forms is creating the forms and see what happen when your fill your owns"
   ]
  },
  {
   "cell_type": "code",
   "execution_count": 66,
   "metadata": {},
   "outputs": [],
   "source": [
    "from selenium.common import exceptions"
   ]
  },
  {
   "cell_type": "code",
   "execution_count": 67,
   "metadata": {},
   "outputs": [],
   "source": [
    "# Set the path of the webdriver\n",
    "driver_path = config['DRIVER_PATH']\n",
    "ser = Service(driver_path)\n",
    "opt = Options()\n",
    "\n",
    "# Create a new instance of the firefox driver\n",
    "driver = webdriver.Firefox(service=ser, options=opt)\n",
    "\n",
    "# go to the local host\n",
    "driver.get(config['LOCAL_HOST'])\n",
    "\n",
    "# Wait until the webpage loading\n",
    "time.sleep(5)\n",
    "\n",
    "# find the name of tag input\n",
    "\n",
    "first_name = driver.find_element(By.NAME, value='email')\n",
    "\n",
    "first_name.clear()\n",
    "\n",
    "first_name.send_keys(config['EMAIL'])\n",
    "\n",
    "\n",
    "last_name = driver.find_element(By.NAME, value='password')\n",
    "\n",
    "last_name.clear()\n",
    "\n",
    "last_name.send_keys(config['PASSWORD'])\n",
    "\n",
    "try:\n",
    "    male = driver.find_element(By.XPATH, value='.//input[@value=\"Male\"]')\n",
    "    male.click()\n",
    "except exceptions.ElementClickInterceptedException as e:\n",
    "    print(e)\n",
    "\n",
    "year_1 = driver.find_element(By.XPATH, value='.//input[@value=\"1\"]')\n",
    "year_1.click()\n",
    "\n",
    "select_continents = Select(driver.find_element(by=By.XPATH, value='//select[@name=\"continents\"]'))\n",
    "# select.deselect_all() # If we need\n",
    "\n",
    "select_continents.select_by_visible_text(\"Australia\")\n",
    "\n",
    "time.sleep(10)\n",
    "\n",
    "driver.quit()"
   ]
  },
  {
   "cell_type": "markdown",
   "metadata": {},
   "source": [
    "If we complete the form, we can **submit** our answer. (I didn't complete so I didn't submit it)"
   ]
  },
  {
   "cell_type": "code",
   "execution_count": null,
   "metadata": {},
   "outputs": [],
   "source": [
    "element_submit = driver.find_element(by=By.ID, value= \"submit\")\n",
    "element_submit.click()"
   ]
  },
  {
   "cell_type": "markdown",
   "metadata": {},
   "source": [
    "### Downloading the source pages\n"
   ]
  },
  {
   "cell_type": "code",
   "execution_count": null,
   "metadata": {},
   "outputs": [],
   "source": [
    "from selenium.webdriver.firefox.service import Service\n",
    "from selenium.webdriver.firefox.options import Options\n",
    "from selenium import webdriver\n",
    "from urllib.parse import urljoin, urlparse\n",
    "from lxml.html import fromstring, tostring\n",
    "\n",
    "def DownloadHtml(url:str):\n",
    "\n",
    "    driver_path = config['DRIVER_PATH']\n",
    "    ser = Service(driver_path)\n",
    "    opt = Options()\n",
    "\n",
    "    # selenium without opening browser \n",
    "    opt.headless = True\n",
    "\n",
    "    # Create a new instance of the Firefox driver\n",
    "    driver = webdriver.Firefox(service=ser, options=opt)\n",
    "\n",
    "    driver.get(url)\n",
    "    \n",
    "    return driver.page_source\n",
    "\n",
    "url = config['LINIO_PATH']\n",
    "\n",
    "page = DownloadHtml(url=url)\n",
    "\n",
    "tree = fromstring(page)\n",
    "\n",
    "for a in tree.xpath('//a[@itemprop=\"url\"]'):\n",
    "    url_category = urljoin(url, a.get('href'))\n",
    "    page_category = DownloadHtml(url_category)\n",
    "\n",
    "    print(urljoin(url, a.get('href')))\n",
    "    "
   ]
  },
  {
   "cell_type": "markdown",
   "metadata": {},
   "source": [
    "## Moving Between Windows and Frames\n",
    "\n",
    "Some web applications have many frames or multiple windows. \n",
    "\n",
    "WebDriver supports moving between named windows using the `switch_to` method\n",
    "\n",
    "`driver.switch_to.frame()`, `driver.switch_to.window()`, or `driver.switch_to.alert`"
   ]
  },
  {
   "cell_type": "code",
   "execution_count": 1,
   "metadata": {},
   "outputs": [],
   "source": [
    "from selenium.webdriver.firefox.service import Service\n",
    "from selenium.webdriver.firefox.options import Options\n",
    "from selenium import webdriver\n",
    "from selenium.webdriver.common.by import By\n",
    "from urllib.parse import urljoin, urlparse\n",
    "import time"
   ]
  },
  {
   "cell_type": "code",
   "execution_count": 6,
   "metadata": {},
   "outputs": [],
   "source": [
    "driver_path = config['DRIVER_PATH']\n",
    "ser = Service(driver_path)\n",
    "opt = Options()\n",
    "\n",
    "# selenium without opening browser \n",
    " \n",
    "# opt.headless = True\n",
    "\n",
    "# Create a new instance of the Chrome driver\n",
    "driver = webdriver.Firefox(service=ser, options=opt)\n",
    "\n",
    "# Go to the Inkafarma home page\n",
    "driver.get(config['INKA_PATH'])\n",
    "\n",
    "# Wait until the webpage loading\n",
    "time.sleep(5)\n",
    "\n",
    "# To check how many iframes have a we we pass in the console:  $x(\"//iframe\")\n",
    "# Find the element that's name attribute\n",
    "inputElement = driver.find_element(By.XPATH, value = '//iframe[@id=\"Braindw2\"]')\n",
    "time.sleep(3)\n",
    "\n",
    "# Switch to other frame\n",
    "driver.switch_to.frame(inputElement)\n",
    "time.sleep(3)\n",
    "\n",
    "# Find the img\n",
    "elements = driver.find_elements(by = By.XPATH, value='//a//img')\n",
    "time.sleep(3)\n",
    "\n",
    "# dowload links of img\n",
    "links = set()\n",
    "for element in elements:\n",
    "    links.add(element.get_attribute('data-src'))\n",
    "    #print(element.parent)\n",
    "    #print(element.text)\n",
    "\n",
    "time.sleep(5)\n",
    "\n",
    "# exit\n",
    "driver.quit()"
   ]
  },
  {
   "cell_type": "code",
   "execution_count": 7,
   "metadata": {},
   "outputs": [
    {
     "data": {
      "text/plain": [
       "{None,\n",
       " 'https://dcuk1cxrnzjkh.cloudfront.net/imagesproducto/004080X.jpg',\n",
       " 'https://dcuk1cxrnzjkh.cloudfront.net/imagesproducto/010197X.jpg',\n",
       " 'https://dcuk1cxrnzjkh.cloudfront.net/imagesproducto/010754X.jpg',\n",
       " 'https://dcuk1cxrnzjkh.cloudfront.net/imagesproducto/010767X.jpg',\n",
       " 'https://dcuk1cxrnzjkh.cloudfront.net/imagesproducto/011592X.jpg',\n",
       " 'https://dcuk1cxrnzjkh.cloudfront.net/imagesproducto/023735X.jpg',\n",
       " 'https://dcuk1cxrnzjkh.cloudfront.net/imagesproducto/023736X.jpg',\n",
       " 'https://dcuk1cxrnzjkh.cloudfront.net/imagesproducto/023738X.jpg',\n",
       " 'https://dcuk1cxrnzjkh.cloudfront.net/imagesproducto/029892X.jpg',\n",
       " 'https://dcuk1cxrnzjkh.cloudfront.net/imagesproducto/032717X.jpg',\n",
       " 'https://dcuk1cxrnzjkh.cloudfront.net/imagesproducto/032801X.jpg',\n",
       " 'https://dcuk1cxrnzjkh.cloudfront.net/imagesproducto/032806X.jpg',\n",
       " 'https://dcuk1cxrnzjkh.cloudfront.net/imagesproducto/035630X.jpg',\n",
       " 'https://dcuk1cxrnzjkh.cloudfront.net/imagesproducto/036051X.jpg',\n",
       " 'https://dcuk1cxrnzjkh.cloudfront.net/imagesproducto/036252X.jpg',\n",
       " 'https://dcuk1cxrnzjkh.cloudfront.net/imagesproducto/036750X.jpg',\n",
       " 'https://dcuk1cxrnzjkh.cloudfront.net/imagesproducto/144052X.jpg',\n",
       " 'https://dcuk1cxrnzjkh.cloudfront.net/imagesproducto/403099X.jpg',\n",
       " 'https://dcuk1cxrnzjkh.cloudfront.net/imagesproducto/428243X.jpg'}"
      ]
     },
     "execution_count": 7,
     "metadata": {},
     "output_type": "execute_result"
    }
   ],
   "source": [
    "links"
   ]
  },
  {
   "cell_type": "markdown",
   "metadata": {},
   "source": [
    "### window_handles\n",
    "\n",
    "* This is used for *navigation* or *multiple windows*\n",
    "* Python Selenium provides option to handle multiple windows using `window_handles`. Python Selenium WebDriver assigns an `id` to each window as soon as the WebDriver object is instantiated or new window is opened using a WebDriver object. This unique id is known as window handles.\n",
    "\n",
    "Here more information: http://allselenium.info/handling-multiple-windows-python-selenium/"
   ]
  },
  {
   "cell_type": "code",
   "execution_count": 16,
   "metadata": {},
   "outputs": [
    {
     "name": "stdout",
     "output_type": "stream",
     "text": [
      "e080c463-acf3-41a9-8145-4540ddca424a\n",
      "['e080c463-acf3-41a9-8145-4540ddca424a', '2247eb4e-50bb-4435-a277-9b3f68449f64']\n",
      "2247eb4e-50bb-4435-a277-9b3f68449f64\n"
     ]
    }
   ],
   "source": [
    "driver_path = config['DRIVER_PATH']\n",
    "ser = Service(driver_path)\n",
    "opt = Options()\n",
    "\n",
    "# selenium without opening browser\n",
    "\n",
    "# opt.headless = True\n",
    "\n",
    "# Create a new instance of the Chrome driver\n",
    "driver = webdriver.Firefox(service=ser, options=opt)\n",
    "\n",
    "# Go to the Inkafarma home page\n",
    "driver.get(config['VITE_PATH'])\n",
    "\n",
    "# Wait until the webpage loading\n",
    "time.sleep(5)\n",
    "\n",
    "# The id for the current webpage\n",
    "before = driver.window_handles[0]\n",
    "print(before)\n",
    "time.sleep(3)\n",
    "\n",
    "got_to_service = driver.find_element(\n",
    "    by=By.LINK_TEXT,\n",
    "    value=\n",
    "    \"native ESM\"\n",
    ")\n",
    "got_to_service.click()\n",
    "time.sleep(2)\n",
    "\n",
    "\n",
    "# After click in window_handles have been added a new id. this is the new windows\n",
    "all_windows = driver.window_handles\n",
    "print(all_windows)\n",
    "\n",
    "if len(all_windows) >=2 :\n",
    "    print(all_windows[1])\n",
    "\n",
    "time.sleep(4)\n",
    "# To switch of original page\n",
    "driver.switch_to.window(before)\n",
    "\n",
    "time.sleep(5)\n",
    "driver.quit()"
   ]
  },
  {
   "cell_type": "markdown",
   "metadata": {},
   "source": [
    "### Navigation: History and Location\n",
    "\n",
    "Python doesn’t have `driver.navigate`. To reiterate: `navigate().to()` and `get()` do exactly the same thing.\n",
    "\n",
    "The `navigate` interface also exposes the ability to move backwards and forwards in your browser’s history:"
   ]
  },
  {
   "cell_type": "code",
   "execution_count": null,
   "metadata": {},
   "outputs": [],
   "source": [
    "driver.get()\n",
    "driver.forward()\n",
    "driver.back()"
   ]
  },
  {
   "cell_type": "markdown",
   "metadata": {},
   "source": [
    "### Changing the User Agent\n",
    "\n",
    "About to finish "
   ]
  },
  {
   "cell_type": "markdown",
   "metadata": {},
   "source": [
    "### Drag And Drop\n",
    "\n",
    "About to finish "
   ]
  },
  {
   "cell_type": "code",
   "execution_count": null,
   "metadata": {},
   "outputs": [],
   "source": [
    "from selenium.webdriver.common.action_chains import ActionChains\n",
    "\n",
    "element = driver.find_element_by_name(\"source\")\n",
    "target = driver.find_element_by_name(\"target\")\n",
    "ActionChains(driver).drag_and_drop(element, target).perform()"
   ]
  },
  {
   "cell_type": "markdown",
   "metadata": {},
   "source": [
    "# WEBDRIVER: ADVANCED USAGE"
   ]
  },
  {
   "cell_type": "code",
   "execution_count": null,
   "metadata": {},
   "outputs": [],
   "source": []
  },
  {
   "cell_type": "code",
   "execution_count": null,
   "metadata": {},
   "outputs": [],
   "source": []
  },
  {
   "cell_type": "markdown",
   "metadata": {},
   "source": [
    "##  Explicit and Implicit Waits"
   ]
  },
  {
   "cell_type": "markdown",
   "metadata": {},
   "source": [
    "### Explicit wait\n",
    "\n",
    "Explicit waits are available to Selenium clients for imperative, procedural languages. They allow your code to halt program execution, or freeze the thread, until the condition you pass it resolves. The condition is called with a certain frequency until the timeout of the wait is elapsed. This means that for as long as the condition returns a falsy value, it will keep trying and waiting.\n",
    "\n",
    "They make a good fit for synchronising the state between the `browser` and `its DOM`, and your `WebDriver script`."
   ]
  },
  {
   "cell_type": "markdown",
   "metadata": {},
   "source": [
    "An explicit waits is code you define to wait for a certain condition to occur before proceeding further in the code.\n",
    "\n",
    "There are some convenience methods provided that help you write code that will wait only as long as required.\n",
    "\n",
    "`WebDriverWait` +  `until` method is one way this can be accomplished.\n",
    "\n",
    "Recall, `until(function)` is method that *calls* the function provided with the driver as an argument until the return value does not evaluate to False."
   ]
  },
  {
   "cell_type": "markdown",
   "metadata": {},
   "source": [
    "`wait` utility ignores no such element errors by default, so we can refactor our instructions to be more concise using `assert`"
   ]
  },
  {
   "cell_type": "code",
   "execution_count": 22,
   "metadata": {},
   "outputs": [
    {
     "name": "stdout",
     "output_type": "stream",
     "text": [
      "Explicit wait\n"
     ]
    }
   ],
   "source": [
    "from selenium.webdriver.support.wait import WebDriverWait\n",
    "\n",
    "driver_path = config['DRIVER_PATH']\n",
    "ser = Service(driver_path)\n",
    "opt = Options()\n",
    "\n",
    "# selenium without opening browser\n",
    "\n",
    "# opt.headless = True\n",
    "\n",
    "# Create a new instance of the Chrome driver\n",
    "driver = webdriver.Firefox(service=ser, options=opt)\n",
    "\n",
    "driver.get(config['SELENIUM_PATH'])\n",
    "\n",
    "\n",
    "# the meaning of `d` is driver\n",
    "header_h2 = WebDriverWait(driver, timeout=20).until(\n",
    "    lambda d:d.find_element(By.XPATH, '//h2[@id=\"explicit-wait\"]'))\n",
    "\n",
    "# assert \n",
    "assert header_h2.text == \"Explicit wait\" , \"The page don't contain the title\"\n",
    "\n",
    "time.sleep(2)\n",
    "\n",
    "driver.quit()"
   ]
  },
  {
   "cell_type": "markdown",
   "metadata": {},
   "source": [
    "\n",
    "### Expected conditions\n",
    "\n",
    "Because it is quite a common occurrence to have to synchronise the DOM and your instructions, most clients also come with a set of predefined expected conditions.\n",
    "\n",
    "* alert is present\n",
    "* element exists\n",
    "* element is visible\n",
    "* title contains\n",
    "* title is\n",
    "* element staleness\n",
    "* visible text"
   ]
  },
  {
   "cell_type": "code",
   "execution_count": 19,
   "metadata": {},
   "outputs": [],
   "source": [
    "from selenium.webdriver.support.wait import WebDriverWait\n",
    "\n",
    "driver_path = config['DRIVER_PATH']\n",
    "ser = Service(driver_path)\n",
    "opt = Options()\n",
    "\n",
    "# selenium without opening browser\n",
    "\n",
    "# opt.headless = True\n",
    "\n",
    "# Create a new instance of the Chrome driver\n",
    "driver = webdriver.Firefox(service=ser, options=opt)\n",
    "\n",
    "driver.get(config['SELENIUM_PATH'])\n",
    "\n",
    "\n",
    "is_title_contains = WebDriverWait(driver, timeout=10).until(\n",
    "    EC.title_contains(title=\"Waits | Selenium\"))\n",
    "\n",
    "assert is_title_contains , \"The page don't contain the title\"\n",
    "\n",
    "time.sleep(2)\n",
    "\n",
    "driver.quit()"
   ]
  },
  {
   "cell_type": "code",
   "execution_count": 15,
   "metadata": {},
   "outputs": [],
   "source": [
    "driver_path = config['DRIVER_PATH']\n",
    "ser = Service(driver_path)\n",
    "opt = Options()\n",
    "\n",
    "# selenium without opening browser\n",
    "opt.headless = True\n",
    "\n",
    "# Create a new instance of the Chrome driver\n",
    "driver = webdriver.Firefox(service=ser, options=opt)\n",
    "\n",
    "driver.get(config['INEI_PATH'])\n",
    "\n",
    "try:\n",
    "    element = WebDriverWait(driver, 5)\\\n",
    "        .until(EC.element_to_be_clickable((By.XPATH, \"//ul[@id='jsmenu']//a[contains(@href,'ConsultaPorEncuesta')]\")))\n",
    "    img_driver = driver.get_screenshot_as_png()\n",
    "    with open('screen_shot.png', 'wb') as writer:\n",
    "        writer.write(img_driver)\n",
    "    element.click()\n",
    "except (WebDriverException, NoSuchElementException, TimeoutException,\n",
    "        ElementClickInterceptedException) as e:\n",
    "    print(e.msg)\n",
    "    # print('The element is not clickable')\n",
    "\n",
    "time.sleep(5)\n",
    "driver.quit()"
   ]
  },
  {
   "cell_type": "markdown",
   "metadata": {},
   "source": [
    "This waits up to 10 seconds before throwing a TimeoutException or if it finds the element will return it in 0 - 10 seconds. \n",
    "\n",
    "`WebDriverWait` by default calls the `ExpectedCondition` every 500 milliseconds until it returns successfully. \n",
    "\n",
    "A successful return is for `ExpectedCondition` type is Boolean return true or not null return value for all other `ExpectedCondition` types.\n",
    "\n",
    "If the element is `clickable` then, it will return `True`"
   ]
  },
  {
   "cell_type": "markdown",
   "metadata": {},
   "source": [
    "We can tell to webdriver that waiting a certain amount of time when trying to find an element or elements if they are not immediately available.\n",
    "\n",
    "This set only once."
   ]
  },
  {
   "cell_type": "code",
   "execution_count": null,
   "metadata": {},
   "outputs": [],
   "source": [
    "from selenium import webdriver\n",
    "\n",
    "ff = webdriver.Firefox()\n",
    "ff.implicitly_wait(10) # seconds\n",
    "ff.get(\"http://somedomain/url_that_delays_loading\")\n",
    "myDynamicElement = ff.find_element_by_id(\"myDynamicElement\")"
   ]
  },
  {
   "cell_type": "markdown",
   "metadata": {},
   "source": [
    "### Execute javascript"
   ]
  },
  {
   "cell_type": "markdown",
   "metadata": {},
   "source": [
    "Executes JavaScript code snippet in the current context of a selected frame or window.\n",
    "\n",
    "* `driver.execute_script('return something')`\n",
    "  * Instead something we can pass some *text*, *document.getElementById('id').value*,  last will return the value of the element thta have this id.\n",
    "  * We can assing values, like `driver.execute_script(\"document.getElementById('id').value='text'\")`\n",
    "  * We can click some values, `driver.execute_script(\"arguments[0].click()\", element)`"
   ]
  },
  {
   "cell_type": "code",
   "execution_count": 16,
   "metadata": {},
   "outputs": [],
   "source": [
    "import time\n",
    "from selenium import webdriver\n",
    "from selenium.webdriver.firefox.service import Service\n",
    "from selenium.webdriver.common.keys import Keys\n",
    "from selenium.webdriver.common.by import By"
   ]
  },
  {
   "cell_type": "code",
   "execution_count": 18,
   "metadata": {},
   "outputs": [],
   "source": [
    "driver_path = config['DRIVER_PATH']\n",
    "ser = Service(driver_path)\n",
    "opt = Options()\n",
    "\n",
    "# selenium without opening browser \n",
    " \n",
    "opt.headless = True\n",
    "\n",
    "driver = webdriver.Firefox(service=ser, options=opt)\n",
    "driver.implicitly_wait(5)\n",
    "\n",
    "driver.get(config['ESIKA_PATH'])\n",
    "\n",
    "elt_joy = driver.find_element(By.LINK_TEXT, 'Joyería')\n",
    "driver.execute_script('arguments[0].click();', elt_joy)\n",
    "\n",
    "time.sleep(2)\n",
    "\n",
    "driver.quit()"
   ]
  },
  {
   "cell_type": "code",
   "execution_count": 20,
   "metadata": {},
   "outputs": [
    {
     "name": "stdout",
     "output_type": "stream",
     "text": [
      "ésika Perú - Todo lo que necesitas para crear tu look\n"
     ]
    }
   ],
   "source": [
    "driver_path = config['DRIVER_PATH']\n",
    "ser = Service(driver_path)\n",
    "opt = Options()\n",
    "\n",
    "# selenium without opening browser \n",
    " \n",
    "opt.headless = True\n",
    "\n",
    "driver = webdriver.Firefox(service=ser, options=opt)\n",
    "driver.implicitly_wait(5)\n",
    "\n",
    "driver.get(config['ESIKA_PATH'])\n",
    "\n",
    "title_page = driver.execute_script('return document.title;')\n",
    "print(title_page)\n",
    "\n",
    "time.sleep(2)\n",
    "\n",
    "driver.quit()"
   ]
  },
  {
   "cell_type": "code",
   "execution_count": 21,
   "metadata": {},
   "outputs": [],
   "source": [
    "driver_path = config['DRIVER_PATH']\n",
    "ser = Service(driver_path)\n",
    "opt = Options()\n",
    "\n",
    "# selenium without opening browser \n",
    " \n",
    "opt.headless = True\n",
    "\n",
    "driver = webdriver.Firefox(service=ser, options=opt)\n",
    "driver.implicitly_wait(5)\n",
    "\n",
    "driver.get(config['ESIKA_PATH'])\n",
    "\n",
    "time.sleep(1)\n",
    "driver.execute_script('history.go(0);')\n",
    "print('Refreshing the Web Page')\n",
    "\n",
    "time.sleep(1)\n",
    "driver.quit()"
   ]
  },
  {
   "cell_type": "code",
   "execution_count": 58,
   "metadata": {},
   "outputs": [
    {
     "name": "stdout",
     "output_type": "stream",
     "text": [
      "Compra a través de una consultora online|Quiero ser consultora||||0|Favoritos| |Regalos| |Maquillaje| |Perfumes| |Cuidado personal| |Cuidado de la piel| |Joyería| |Blog| |Ofertas||25% off en cuidado de la piel y cuidado personal. Cupón: COMPRUEBAX25||Los Favoritos||Vibranza\n"
     ]
    }
   ],
   "source": [
    "# ge all text visible \n",
    "driver_path = config['DRIVER_PATH']\n",
    "ser = Service(driver_path)\n",
    "opt = Options()\n",
    "\n",
    "# selenium without opening browser \n",
    " \n",
    "opt.headless = True\n",
    "\n",
    "driver = webdriver.Firefox(service=ser, options=opt)\n",
    "driver.implicitly_wait(5)\n",
    "\n",
    "driver.get(config['ESIKA_PATH'])\n",
    "\n",
    "time.sleep(1)\n",
    "\n",
    "text_visible = driver.execute_script('return document.documentElement.innerText;')\n",
    "text_to_show = text_visible.replace('\\n', '|')\n",
    "print(text_to_show[:int(len(text_to_show)*0.09)])\n",
    "\n",
    "time.sleep(1)\n",
    "driver.quit()"
   ]
  },
  {
   "cell_type": "code",
   "execution_count": 41,
   "metadata": {},
   "outputs": [],
   "source": [
    "driver_path = config['DRIVER_PATH']\n",
    "ser = Service(driver_path)\n",
    "opt = Options()\n",
    "\n",
    "# selenium without opening browser \n",
    " \n",
    "opt.headless = True\n",
    "\n",
    "\n",
    "driver = webdriver.Firefox(service=ser, options=opt)\n",
    "driver.implicitly_wait(5)\n",
    "\n",
    "driver.get(config['ESIKA_PATH'])\n",
    "\n",
    "# Find the element\n",
    "elt_joy = driver.find_element(By.XPATH, \"//div[@class='yCmsComponent js_nav__link']//a[contains(@href,'esika-07')]\")\n",
    "\n",
    "# Scroll until the found element\n",
    "driver.execute_script(\"arguments[0].scrollIntoView(true);\", elt_joy)\n",
    "time.sleep(1)\n",
    "\n",
    "# highlighted the border in red\n",
    "driver.execute_script('arguments[0].style.border = \"3px solid red\";', elt_joy)\n",
    "time.sleep(2)\n",
    "\n",
    "driver.quit()"
   ]
  },
  {
   "cell_type": "code",
   "execution_count": 42,
   "metadata": {},
   "outputs": [],
   "source": [
    "driver_path = config['DRIVER_PATH']\n",
    "ser = Service(driver_path)\n",
    "opt = Options()\n",
    "\n",
    "# selenium without opening browser \n",
    " \n",
    "opt.headless = True\n",
    "\n",
    "\n",
    "driver = webdriver.Firefox(service=ser, options=opt)\n",
    "driver.implicitly_wait(5)\n",
    "\n",
    "driver.get(config['ESIKA_PATH'])\n",
    "\n",
    "driver.execute_script('document.getElementById(\"js-site-search-input\").value = \"ofertas\";')\n",
    "time.sleep(2)\n",
    "\n",
    "driver.quit()"
   ]
  },
  {
   "cell_type": "markdown",
   "metadata": {},
   "source": [
    "[1.] https://www.youtube.com/c/NaveenAutomationLabs/videos\n",
    "\n",
    "[2.] https://www.youtube.com/watch?v=OISEEL5eBqg&list=PLzMcBGfZo4-n40rB1XaJ0ak1bemvlqumQ&index=5"
   ]
  },
  {
   "cell_type": "markdown",
   "metadata": {},
   "source": [
    "### ActionChains"
   ]
  },
  {
   "cell_type": "code",
   "execution_count": 47,
   "metadata": {},
   "outputs": [],
   "source": [
    "driver_path = config['DRIVER_PATH']\n",
    "ser = Service(driver_path)\n",
    "opt = Options()\n",
    "\n",
    "# selenium without opening browser \n",
    " \n",
    "opt.headless = True\n",
    "\n",
    "from selenium.webdriver.common.action_chains import ActionChains\n",
    "\n",
    "driver = webdriver.Firefox(service=ser, options=opt)\n",
    "driver.implicitly_wait(5)\n",
    "driver.get(config['ESIKA_PATH'])\n",
    "\n",
    "elements_head = driver.find_elements(By.XPATH, \"//div[@class='yCmsComponent js_nav__link']//a\")\n",
    "actions = ActionChains(driver)\n",
    "\n",
    "for element in elements_head:\n",
    "    try:\n",
    "        actions.move_to_element(element)\n",
    "        actions.click_and_hold() # simulate click, but hold in the orinal page\n",
    "        actions.perform()\n",
    "        \n",
    "    except:\n",
    "        print(element)\n",
    "\n",
    "time.sleep(2)\n",
    "\n",
    "driver.quit()"
   ]
  },
  {
   "cell_type": "markdown",
   "metadata": {},
   "source": [
    "## Using Selenium to write tests"
   ]
  },
  {
   "cell_type": "code",
   "execution_count": 14,
   "metadata": {},
   "outputs": [],
   "source": [
    "import unittest\n",
    "import time\n",
    "from selenium import webdriver\n",
    "from selenium.webdriver.firefox.service import Service\n",
    "from selenium.webdriver.common.keys import Keys\n",
    "from selenium.webdriver.common.by import By\n",
    "\n",
    "class PythonOrgSearch(unittest.TestCase):\n",
    "\n",
    "    def setUp(self):\n",
    "        driver_path = config['DRIVER_PATH']\n",
    "        ser = Service(driver_path)\n",
    "        opt = webdriver.FirefoxOptions()\n",
    "\n",
    "        # Create a new instance of the Chrome driver\n",
    "        self.driver = webdriver.Firefox(service=ser, options=opt)\n",
    "\n",
    "    def test_search_in_python_org(self):\n",
    "        driver = self.driver\n",
    "        driver.get(config['PYTHON_PATH'])\n",
    "        print(driver.title, 'driver.title')\n",
    "        \n",
    "        self.assertIn(\"Python\", driver.title)\n",
    "        elem = driver.find_element(by=By.NAME, value=\"q\")\n",
    "        elem.send_keys(\"pycon\")\n",
    "        \n",
    "        print(Keys.RETURN, 'Keys.RETURN')\n",
    "        \n",
    "        elem.send_keys(Keys.RETURN)\n",
    "        self.assertNotIn(\"No results found.\", driver.page_source)\n",
    "\n",
    "\n",
    "    def tearDown(self):\n",
    "        self.driver.close()"
   ]
  },
  {
   "cell_type": "code",
   "execution_count": 15,
   "metadata": {},
   "outputs": [
    {
     "name": "stdout",
     "output_type": "stream",
     "text": [
      "Welcome to Python.org driver.title\n",
      " Keys.RETURN\n"
     ]
    }
   ],
   "source": [
    "if __name__ == \"__main__\":\n",
    "    pol = PythonOrgSearch()\n",
    "    pol.setUp()\n",
    "    pol.test_search_in_python_org()\n",
    "    time.sleep(5)\n",
    "    pol.tearDown()"
   ]
  },
  {
   "cell_type": "markdown",
   "metadata": {},
   "source": [
    "# Application\n",
    "\n",
    "The purpose of this application is extracting all images of products of the this page to clone it.\n",
    " \n",
    "Steps - Pseudo Code\n",
    "* If not exist the `page_html.html`(the web page that we'll download)\n",
    "  * Go to `https://www.metro.pe/panaderia-y-pasteleria`\n",
    "  * Localice the class element `titulo-sessao` and go to it\n",
    "  * We know when we scroll down the page loads more data, so we need to scroll down, but this must be controlled. Here we scroll down each 500px, but this can be changed and then to wait 5 seconds to load more data.\n",
    "  * If the page don't load any data, the page will be downloaded and the while loop will be dropped.\n",
    "* If exist the html file\n",
    "  * Create a model data for the products with pydantic\n",
    "  * Read the html file with utf-8 encoding\n",
    "  * Convert the html file to tree, so we can use xpath to find the `items`\n",
    "  * Each element has `data-id`, `data-price`, ...\n",
    "  * These data are extracted and append in a list to be converted in a dataframe."
   ]
  },
  {
   "cell_type": "code",
   "execution_count": null,
   "metadata": {},
   "outputs": [],
   "source": [
    "# selenium\n",
    "from selenium import webdriver\n",
    "from selenium.common.exceptions import NoSuchElementException\n",
    "from selenium.webdriver.firefox.service import Service\n",
    "from selenium.webdriver.common.by import By\n",
    "# To extract the data\n",
    "from pathlib import Path\n",
    "import time\n",
    "from lxml.html import fromstring\n",
    "# To model\n",
    "from pydantic import BaseModel\n",
    "import pandas as pd"
   ]
  },
  {
   "cell_type": "code",
   "execution_count": 1,
   "metadata": {},
   "outputs": [
    {
     "name": "stdout",
     "output_type": "stream",
     "text": [
      "50\n"
     ]
    }
   ],
   "source": [
    "print(50)"
   ]
  },
  {
   "cell_type": "code",
   "execution_count": null,
   "metadata": {},
   "outputs": [],
   "source": [
    "if not Path('page_html.html').exists():\n",
    "    driver_path = config['DRIVER_PATH']\n",
    "    ser = Service(driver_path)\n",
    "\n",
    "    # Create a new instance of the Chrome driver\n",
    "    driver = webdriver.Firefox(service=ser)\n",
    "    \n",
    "    # go to the metro.pe>panaderia-y-pasteleria \n",
    "    driver.get(config['METRO_PATH'])\n",
    "    time.sleep(3)\n",
    "\n",
    "    try:\n",
    "        inputElement = driver.find_element(\n",
    "            By.CLASS_NAME, value='titulo-sessao')\n",
    "        driver.execute_script(\"arguments[0].scrollIntoView();\", inputElement)\n",
    "        time.sleep(2)\n",
    "        constant = 500  # 500px\n",
    "        while True:\n",
    "            driver.execute_script(f\"window.scrollTo(0, {constant})\")\n",
    "            constant += 500\n",
    "            time.sleep(5)\n",
    "            Height = driver.execute_script(\n",
    "                \"return document.body.scrollHeight;\")\n",
    "            if constant >= Height:\n",
    "                print(Height, constant)\n",
    "                page_html = driver.page_source\n",
    "\n",
    "                with open('page_html.html', mode='w', encoding='utf-8') as files:\n",
    "                    files.write(page_html)\n",
    "                    # pass\n",
    "                break\n",
    "            else:\n",
    "                pass\n",
    "\n",
    "    except NoSuchElementException as e:\n",
    "        print(e.msg)\n",
    "\n",
    "    time.sleep(2)\n",
    "\n",
    "    # close\n",
    "    driver.quit()\n",
    "else:\n",
    "    class Products(BaseModel):\n",
    "        data_id: int = None\n",
    "        data_price: str = None\n",
    "        data_brand: str = None\n",
    "        data_uri: str = None\n",
    "        data_name: str = None\n",
    "        data_category: str = None\n",
    "\n",
    "    total_products = []\n",
    "    with open('page_html.html', mode='r', encoding='utf-8') as files:\n",
    "        page_html = files.read()\n",
    "        tree = fromstring(page_html)\n",
    "        elements = tree.xpath('//div[contains(@class, \"product-item \")]')\n",
    "        for element in elements:\n",
    "            products = Products(\n",
    "                data_id=element.get('data-id'),\n",
    "                data_price=element.get('data-price'),\n",
    "                data_brand=element.get('data-brand'),\n",
    "                data_uri=element.get('data-uri'),\n",
    "                data_name=element.get('data-name'),\n",
    "                data_category=element.get('data-category')\n",
    "            )\n",
    "            # print(element)\n",
    "            total_products.append(products.dict())\n",
    "        try:\n",
    "            df = pd.DataFrame(total_products)\n",
    "            price_string = df.data_price.str.extract(\"(\\d.+)\", expand=False)\n",
    "            price_clean = price_string.str.replace(',', '')\n",
    "            price_numeric = pd.to_numeric(price_clean, errors='coerce')\n",
    "            df.data_price = price_numeric\n",
    "\n",
    "            category = df.data_category.apply(lambda x: x.split('/')[-1])\n",
    "            df.data_category = category\n",
    "            path_sql = r\"C:\\Users\\LENOVO\\Desktop\\python_course\\Sql_course\"\n",
    "            df.to_csv(path_sql + '\\data_metro.csv', index=False)\n",
    "\n",
    "        except:\n",
    "            print('There was an error in the covertion to dataframe')"
   ]
  }
 ],
 "metadata": {
  "interpreter": {
   "hash": "7679c2132d3f6ce38c9df14d554b39c06862b36a4e6689c81f9ae15bd0911d7d"
  },
  "kernelspec": {
   "display_name": "Python 3.9.7 ('base')",
   "language": "python",
   "name": "python3"
  },
  "language_info": {
   "codemirror_mode": {
    "name": "ipython",
    "version": 3
   },
   "file_extension": ".py",
   "mimetype": "text/x-python",
   "name": "python",
   "nbconvert_exporter": "python",
   "pygments_lexer": "ipython3",
   "version": "3.9.7"
  },
  "orig_nbformat": 4
 },
 "nbformat": 4,
 "nbformat_minor": 2
}
