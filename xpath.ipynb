{
 "cells": [
  {
   "attachments": {},
   "cell_type": "markdown",
   "metadata": {},
   "source": [
    "# Pull data out from HTML files "
   ]
  },
  {
   "attachments": {},
   "cell_type": "markdown",
   "metadata": {},
   "source": [
    "### Beatiful Soup \n",
    "\n",
    "The fourth verion of Beatiful Soup come with many new facts\n",
    "\n",
    "https://beautiful-soup-4.readthedocs.io/en/latest/"
   ]
  },
  {
   "cell_type": "code",
   "execution_count": null,
   "metadata": {},
   "outputs": [],
   "source": []
  },
  {
   "attachments": {},
   "cell_type": "markdown",
   "metadata": {},
   "source": [
    "### XML - Xpath"
   ]
  },
  {
   "cell_type": "code",
   "execution_count": null,
   "metadata": {},
   "outputs": [],
   "source": []
  },
  {
   "cell_type": "code",
   "execution_count": null,
   "metadata": {},
   "outputs": [],
   "source": []
  },
  {
   "cell_type": "markdown",
   "metadata": {
    "vscode": {
     "languageId": "plaintext"
    }
   },
   "source": [
    "https://stackoverflow.com/questions/4531995/getting-attribute-using-xpath\n",
    "\n",
    "https://docs.python.org/3/library/xml.etree.elementtree.html\n",
    "\n",
    "https://riptutorial.com/Download/xpath.pdf\n",
    "\n",
    "https://www.w3schools.com/xml/xpath_examples.asp"
   ]
  },
  {
   "attachments": {},
   "cell_type": "markdown",
   "metadata": {
    "vscode": {
     "languageId": "plaintext"
    }
   },
   "source": [
    "**XML** is an hierarchical data format, and the most natural way to represent it is with a `tree`.\n",
    "\n",
    "ET has two classes for this purpose \n",
    "  - `ElementTree` that represents the whole XML document as a tree, and \n",
    "  - `Element` that represents a single node in this tree. \n",
    "\n",
    "Interactions with the `whole document` (reading and writing to/from files) are usually done on the `ElementTree` level. \n",
    "\n",
    "Interactions with a `single XML element` and its sub-elements are done on the `Element` level."
   ]
  },
  {
   "cell_type": "code",
   "execution_count": 1,
   "metadata": {},
   "outputs": [],
   "source": [
    "from lxml.html import fromstring, tostring\n",
    "import requests\n",
    "from pathlib import Path\n",
    "from urllib.parse import urljoin, urlparse, urlsplit\n",
    "from dotenv import dotenv_values"
   ]
  },
  {
   "cell_type": "code",
   "execution_count": 3,
   "metadata": {},
   "outputs": [],
   "source": [
    "with open('Science Fiction _ Books to Scrape - Sandbox.html', encoding='utf-8') as page:\n",
    "    page_source = page.read()\n",
    "\n",
    "root = fromstring(page_source)"
   ]
  },
  {
   "cell_type": "code",
   "execution_count": 11,
   "metadata": {},
   "outputs": [],
   "source": [
    "elements_stock = root.xpath(\"//ol[@class='row']//li/article/div/p[@class='instock availability']\")\n",
    "elements_price = root.xpath('//ol[@class=\"row\"]//li/article/div/p[@class=\"price_color\"]')\n",
    "elements_title = root.xpath('//ol[@class=\"row\"]//li/article/h3/a')\n",
    "total = []\n",
    "for stock, price, title in zip(elements_stock, elements_price, elements_title):\n",
    "    total.append(\n",
    "        {\n",
    "            \"stock\":stock.text_content().strip(), \n",
    "            \"price\":price.text_content().strip(), \n",
    "            \"title\":title.text_content().strip()\n",
    "            }\n",
    "            )\n",
    "import pandas as pd\n",
    "pd.DataFrame(total)"
   ]
  },
  {
   "cell_type": "code",
   "execution_count": 11,
   "metadata": {},
   "outputs": [],
   "source": [
    "config = dotenv_values('./env/.env')"
   ]
  },
  {
   "cell_type": "code",
   "execution_count": 8,
   "metadata": {},
   "outputs": [],
   "source": [
    "user_agent = 'Mozilla/5.0'\n",
    "\n",
    "response = requests.get(\n",
    "    config['ESIKA_PATH'], \n",
    "    headers={'User-agent': user_agent})\n",
    "\n",
    "root = fromstring(response.text)"
   ]
  },
  {
   "cell_type": "markdown",
   "metadata": {},
   "source": [
    "As an Element, root has a tag and a dictionary of attributes"
   ]
  },
  {
   "cell_type": "code",
   "execution_count": 3,
   "metadata": {},
   "outputs": [
    {
     "name": "stdout",
     "output_type": "stream",
     "text": [
      "Tag name current: html\n",
      "Attributes of Tag name current:  {'lang': 'es_PE'}\n"
     ]
    }
   ],
   "source": [
    "print('Tag name current:', root.tag)\n",
    "print('Attributes of Tag name current: ',root.attrib)"
   ]
  },
  {
   "cell_type": "markdown",
   "metadata": {},
   "source": [
    "In order to access at children of a root, we use for loop."
   ]
  },
  {
   "cell_type": "code",
   "execution_count": 4,
   "metadata": {},
   "outputs": [
    {
     "name": "stdout",
     "output_type": "stream",
     "text": [
      "Tag name of child 0: head\n",
      "Attributes of child 0 : {}\n",
      "text of child 0: \n",
      "\n",
      "class of child 0:  None\n",
      "\n",
      "Tag name of child 1: body\n",
      "Attributes of child 1 : {'class': 'page-productDetails pageType-ProductPage template-pages-product-productLayout1Page  smartedit-page-uid-productDetails smartedit-page-uuid-eyJpdGVtSWQiOiJwcm9kdWN0RGV0YWlscyIsImNhdGFsb2dJZCI6InBlQ29udGVudENhdGFsb2ciLCJjYXRhbG9nVmVyc2lvbiI6Ik9ubGluZSJ9 smartedit-catalog-version-uuid-peContentCatalog/Online  language-es_PE selected-brand-esika rich-relevance-personalization'}\n",
      "text of child 1: \n",
      "\n",
      "\n",
      "class of child 1:  page-productDetails pageType-ProductPage template-pages-product-productLayout1Page  smartedit-page-uid-productDetails smartedit-page-uuid-eyJpdGVtSWQiOiJwcm9kdWN0RGV0YWlscyIsImNhdGFsb2dJZCI6InBlQ29udGVudENhdGFsb2ciLCJjYXRhbG9nVmVyc2lvbiI6Ik9ubGluZSJ9 smartedit-catalog-version-uuid-peContentCatalog/Online  language-es_PE selected-brand-esika rich-relevance-personalization\n",
      "\n"
     ]
    }
   ],
   "source": [
    "for i, child in enumerate(root):\n",
    "    print(f'Tag name of child {i}: {child.tag}' ) \n",
    "    print(f'Attributes of child {i} :' ,child.attrib)\n",
    "    print(f'text of child {i}: {child.text}' ) \n",
    "    print(f'class of child {i}: ', child.get('class'), end='\\n\\n') # we choose some attribute of child"
   ]
  },
  {
   "cell_type": "markdown",
   "metadata": {},
   "source": [
    "Element has some useful methods that help iterate recursively over all the sub-tree below it (its children, their children, and so on)\n",
    "\n",
    "For example, `Element.iter()`"
   ]
  },
  {
   "cell_type": "code",
   "execution_count": 5,
   "metadata": {},
   "outputs": [
    {
     "name": "stdout",
     "output_type": "stream",
     "text": [
      "{}\n",
      "{'id': 'backEcatalogUrl', 'xlink:href': ''}\n",
      "{'href': '#', 'class': 'mini-cart-link js-mini-cart-link', 'data-mini-cart-url': '/pe/cart/rollover/EsikaBicMiniCart', 'data-mini-cart-refresh-url': '/pe/cart/miniCart/SUBTOTAL', 'data-mini-cart-name': 'Bolsa de Compras', 'data-mini-cart-empty-name': 'Empty Bag', 'data-mini-cart-items-text': 'Artículos', 'data-cart-page-url': '/pe/cart'}\n",
      "{'href': 'https://esika.tiendabelcorp.com/pe', 'class': 'esika-active', 'data-role': 'menu', 'data-region': 'Superior', 'data-parent': 'esika', 'data-title': 'esika', 'id': 'lnk-sup-esika'}\n",
      "{'href': 'https://lbel.tiendabelcorp.com/pe', 'class': 'logo-no-active', 'data-role': 'menu', 'data-region': 'Superior', 'data-parent': 'lbel', 'data-title': 'lbel', 'id': 'lnk-sup-lbel'}\n",
      "{'href': 'https://cyzone.tiendabelcorp.com/pe', 'class': 'logo-no-active', 'data-role': 'menu', 'data-region': 'Superior', 'data-parent': 'cyzone', 'data-title': 'cyzone', 'id': 'lnk-sup-cyzone'}\n",
      "{'href': 'https://esika.tiendabelcorp.com/pe', 'class': 'esika-active', 'data-role': 'menu', 'data-region': 'Superior', 'data-parent': 'esika', 'data-title': 'esika', 'id': 'lnk-sup-esika'}\n",
      "{'href': 'https://lbel.tiendabelcorp.com/pe', 'class': 'logo-no-active', 'data-role': 'menu', 'data-region': 'Superior', 'data-parent': 'lbel', 'data-title': 'lbel', 'id': 'lnk-sup-lbel'}\n",
      "{'href': 'https://cyzone.tiendabelcorp.com/pe', 'class': 'logo-no-active', 'data-role': 'menu', 'data-region': 'Superior', 'data-parent': 'cyzone', 'data-title': 'cyzone', 'id': 'lnk-sup-cyzone'}\n",
      "{'href': '/pe/my-account/address-book', 'title': 'MIS DIRECCIONES'}\n",
      "{'href': '/pe/my-account/orders', 'title': 'MIS PEDIDOS REALIZADOS'}\n",
      "{'href': '/pe/my-account/update-profile', 'title': 'MIS DATOS PERSONALES'}\n",
      "{'href': '/pe/login', 'class': 'cms-image-link', 'target': '_self'}\n",
      "{'href': '#', 'class': 'mini-cart-link js-mini-cart-link', 'data-mini-cart-url': '/pe/cart/rollover/EsikaBicMiniCart', 'data-mini-cart-refresh-url': '/pe/cart/miniCart/SUBTOTAL', 'data-mini-cart-name': 'Bolsa de Compras', 'data-mini-cart-empty-name': 'Empty Bag', 'data-mini-cart-items-text': 'Artículos', 'data-cart-page-url': '/pe/cart'}\n",
      "{'href': 'https://esika.tiendabelcorp.com/pe'}\n",
      "{'href': 'https://esika.tiendabelcorp.com/pe'}\n",
      "{'href': '#', 'class': 'mini-cart-link js-mini-cart-link', 'data-mini-cart-url': '/pe/cart/rollover/EsikaBicMiniCart', 'data-mini-cart-refresh-url': '/pe/cart/miniCart/SUBTOTAL', 'data-mini-cart-name': 'Bolsa de Compras', 'data-mini-cart-empty-name': 'Empty Bag', 'data-mini-cart-items-text': 'Artículos', 'data-cart-page-url': '/pe/cart'}\n",
      "{'href': 'https://esika.tiendabelcorp.com/pe/ofertas/c/esika-08', 'title': 'Favoritos'}\n",
      "{'class': 'sm-back js-enquire-sub-close hidden-md hidden-lg', 'href': '#'}\n",
      "{'href': 'https://esika.tiendabelcorp.com/pe/ofertas/productos-rojos/c/esika-0807', 'title': 'Productos Rojos'}\n",
      "{'href': '/pe/sets/c/esika-40', 'title': 'Regalos'}\n",
      "{'href': '/pe/maquillaje/c/esika-01', 'title': 'Maquillaje'}\n",
      "{'class': 'sm-back js-enquire-sub-close hidden-md hidden-lg', 'href': '#'}\n",
      "{'href': '/pe/maquillaje/rostro/c/esika-0101', 'title': 'Rostro'}\n",
      "{'href': '/pe/maquillaje/rostro/polvos/c/esika-010105', 'title': 'Polvos'}\n",
      "{'href': '/pe/maquillaje/rostro/primer/c/esika-010107', 'title': 'Primer'}\n",
      "{'href': '/pe/maquillaje/rostro/base/c/esika-010102', 'title': 'Base'}\n",
      "{'href': '/pe/maquillaje/rostro/contour-e-iluminadores/c/esika-010108', 'title': 'Contour e iluminadores'}\n",
      "{'href': '/pe/maquillaje/rostro/corrector/c/esika-010103', 'title': 'Corrector'}\n",
      "{'href': '/pe/maquillaje/rostro/rubor/c/esika-010106', 'title': 'Rubor'}\n",
      "{'href': '/pe/maquillaje/ojos/c/esika-0102', 'title': 'Ojos'}\n",
      "{'href': '/pe/maquillaje/ojos/delineador/c/esika-010202', 'title': 'Delineador'}\n",
      "{'href': '/pe/maquillaje/ojos/m%c3%a1scaras/c/esika-010204', 'title': 'Máscaras'}\n",
      "{'href': '/pe/maquillaje/ojos/cejas/c/esika-010206', 'title': 'Cejas'}\n",
      "{'href': '/pe/maquillaje/ojos/sombras/c/esika-010205', 'title': 'Sombras'}\n",
      "{'href': '/pe/maquillaje/labios/c/esika-0103', 'title': 'Labios'}\n",
      "{'href': '/pe/maquillaje/labios/labiales/c/esika-010305', 'title': 'Labiales'}\n",
      "{'href': '/pe/maquillaje/labios/delineador/c/esika-010303', 'title': 'Delineador'}\n",
      "{'href': '/pe/maquillaje/labios/brillo/c/esika-010302', 'title': 'Brillo'}\n",
      "{'href': '/pe/maquillaje/u%c3%b1as/c/esika-0104', 'title': 'Uñas'}\n",
      "{'href': '/pe/maquillaje/u%c3%b1as/esmalte/c/esika-010402', 'title': 'Esmalte'}\n",
      "{'href': '/pe/maquillaje/u%c3%b1as/base/c/esika-010403', 'title': 'Base'}\n",
      "{'href': '/pe/maquillaje/accesorios/c/esika-0105', 'title': 'Accesorios de Maquillaje'}\n",
      "{'href': '/pe/maquillaje/accesorios/tajador/c/esika-010505', 'title': 'Tajador'}\n",
      "{'href': '/pe/maquillaje/accesorios/brochas/c/esika-010502', 'title': 'Brochas'}\n",
      "{'href': '/pe/maquillaje/accesorios/otros/c/esika-010503', 'title': 'Otros'}\n",
      "{'href': '/pe/maquillaje/accesorios/set-de-brochas/c/esika-010504', 'title': 'Set de Brochas'}\n",
      "{'href': '/pe/maquillaje/accesorios/rizador-de-pesta%c3%b1as/c/esika-010506', 'title': 'Rizador de Pestañas'}\n",
      "{'href': '/pe/maquillaje/sub-marca/c/esika-0106', 'title': 'Sub Marca'}\n",
      "{'href': '/pe/maquillaje/sub-marca/colorfix/c/esika-010602', 'title': 'Colorfix'}\n",
      "{'href': '/pe/maquillaje/sub-marca/esika-pro/c/esika-010601', 'title': 'ésika Pro'}\n",
      "{'href': 'https://esika.tiendabelcorp.com/pe?vmu=enabled', 'title': 'Maquillador Virtual'}\n",
      "{'href': '/pe/maquillaje/ojos/paleta-personalizable/c/esika-010207', 'title': 'Paleta Personalizable'}\n",
      "{'href': 'https://belcorp.esika.com/pe/maquillaje-colorfix/'}\n",
      "{'href': 'https://belcorp.esika.com/pe/esika-pro/'}\n",
      "{'href': 'https://belcorp.esika.com/pe/maquillaje-colorfix/', 'class': 'bic-menu-banner-screen-item__link js-bic-menu-banner-screen-item-link', 'target': '_blank', 'data-cms-styles': '{\\n        \"default\": {\\n            \"color\": \"#000000\",\\n            \"fontFamily\": \"BrownStd, Helvetica, Arial, sans-serif\",\\n            \"fontSize\": \"14px\"\\n        }\\n    }'}\n",
      "{'href': '/pe/perfumes/c/esika-02', 'title': 'Perfumes'}\n",
      "{'class': 'sm-back js-enquire-sub-close hidden-md hidden-lg', 'href': '#'}\n",
      "{'href': '/pe/c/esika-0201', 'title': 'Mujer'}\n",
      "{'href': '/pe/perfumes/mujer/floral/c/esika-020104', 'title': 'Floral'}\n",
      "{'href': '/pe/perfumes/mujer/chypre/c/esika-020106', 'title': 'Chypre'}\n",
      "{'href': '/pe/perfumes/mujer/dulce/c/esika-020102', 'title': 'Oriental Dulce'}\n",
      "{'href': '/pe/perfumes/mujer/frutal/c/esika-020105', 'title': 'Frutal'}\n",
      "{'href': '/pe/perfumes/mujer/c%c3%adtrico/c/esika-020101', 'title': 'Cítrica'}\n",
      "{'href': '/pe/perfumes/mujer/concentracion-muy-alta/c/esika-020107', 'title': 'Concentración Muy Alta'}\n",
      "{'href': '/pe/perfumes/mujer/concentracion-alta/c/esika-020108', 'title': 'Concentración Alta'}\n",
      "{'href': '/pe/perfumes/mujer/concentracion-media/c/esika-020109', 'title': 'Concentración Media'}\n",
      "{'href': 'https://esika.tiendabelcorp.com/pe/perfumes/hombre/c/esika-0202', 'title': 'Hombre'}\n",
      "{'href': '/pe/perfumes/hombre/maderosa/c/esika-020203', 'title': 'Maderosa'}\n",
      "{'href': '/pe/perfumes/hombre/c%c3%adtrico/c/esika-020201', 'title': 'Cítrico'}\n",
      "{'href': '/pe/perfumes/hombre/herbal/c/esika-020202', 'title': 'Herbal Aromática'}\n",
      "{'href': '/pe/perfumes/hombre/oriental/c/esika-020205', 'title': 'Oriental Especiada'}\n",
      "{'href': '/pe/perfumes/hombre/concentracion-muy-alta/c/esika-020206', 'title': 'Concentración Muy Alta'}\n",
      "{'href': '/pe/perfumes/hombre/concentracion-alta/c/esika-020207', 'title': 'Concentración Alta'}\n",
      "{'href': '/pe/perfumes/hombre/concentracion-media/c/esika-020208', 'title': 'Concentración Media'}\n",
      "{'href': 'https://belcorp.esika.com/pe/perfumes-para-mi/', 'title': 'Asesor de Perfumes', 'target': '_blank', 'rel': 'noopener noreferrer'}\n",
      "{'href': 'https://belcorp.esika.com/vibranza/', 'class': 'bic-menu-banner-screen-item__link js-bic-menu-banner-screen-item-link', 'target': '_self', 'data-cms-styles': '{\\n        \"default\": {\\n            \"color\": \"#000000\",\\n            \"fontFamily\": \"BrownStd, Helvetica, Arial, sans-serif\",\\n            \"fontSize\": \"14px\"\\n        }\\n    }'}\n",
      "{'href': 'https://belcorp.esika.com/asesor-de-perfumes', 'class': 'bic-menu-banner-screen-item__link js-bic-menu-banner-screen-item-link', 'target': '_self', 'data-cms-styles': '{\\n        \"default\": {\\n            \"color\": \"#000000\",\\n            \"fontFamily\": \"BrownStd, Helvetica, Arial, sans-serif\",\\n            \"fontSize\": \"14px\"\\n        }\\n    }'}\n",
      "{'href': 'https://belcorp.esika.com/vibranza/', 'class': 'bic-menu-banner-screen-item__link js-bic-menu-banner-screen-item-link', 'target': '_self', 'data-cms-styles': '{\\n        \"default\": {\\n            \"color\": \"#000000\",\\n            \"fontFamily\": \"BrownStd, Helvetica, Arial, sans-serif\",\\n            \"fontSize\": \"14px\"\\n        }\\n    }'}\n",
      "{'href': '/pe/cuidado-personal/c/esika-04', 'title': 'Cuidado Personal'}\n",
      "{'class': 'sm-back js-enquire-sub-close hidden-md hidden-lg', 'href': '#'}\n",
      "{'href': '/pe/cuidado-personal/cuerpo/c/esika-0401', 'title': 'Cuerpo'}\n",
      "{'href': '/pe/cuidado-personal/cuerpo/crema-hidratante/c/esika-040102', 'title': 'Crema Hidratante'}\n",
      "{'href': '/pe/cuidado-personal/cuerpo/desodorante/c/esika-040101', 'title': 'Desodorante'}\n",
      "{'href': '/pe/cuidado-personal/cuerpo/talco/c/esika-040103', 'title': 'Talco'}\n",
      "{'href': '/pe/cuidado-personal/cuerpo/cuidado-de-pies/c/esika-040104', 'title': 'Cuidado de Pies'}\n",
      "{'href': '/pe/cuidado-personal/cuerpo/protector-solar/c/esika-040105', 'title': 'Protector Solar'}\n",
      "{'href': '/pe/cuidado-personal/cabello/c/esika-0403', 'title': 'Cabello'}\n",
      "{'href': '/pe/cuidado-personal/cabello/gel/c/esika-040307', 'title': 'Gel'}\n",
      "{'href': '/pe/cuidado-personal/cabello/3-en-1/c/esika-040305', 'title': '3 en 1'}\n",
      "{'href': '/pe/cuidado-personal/cabello/crema-de-peinar/c/esika-040302', 'title': 'Crema de Peinar'}\n",
      "{'href': '/pe/cuidado-personal/cabello/desenredante/c/esika-040306', 'title': 'Desenredante'}\n",
      "{'href': '/pe/cuidado-personal/cabello/tratamiento-capilar-y-%c3%93leo/c/esika-040303', 'title': 'Tratamiento Capilar y Óleo'}\n",
      "{'href': '/pe/cuidado-personal/cabello/shampoo-y-acondicionador/c/esika-040301', 'title': 'Shampoo y Acondicionador'}\n",
      "{'href': '/pe/cuidado-personal/cabello/2-en-1/c/esika-040304', 'title': '2 en 1'}\n",
      "{'href': '/pe/cuidado-personal/ni%c3%b1os-y-beb%c3%a9/c/esika-0404', 'title': 'Niños y Bebés'}\n",
      "{'href': '/pe/cuidado-personal/ni%c3%b1os-y-beb%c3%a9/talco-beb%c3%a9s/c/esika-040402', 'title': 'Talco Bebés'}\n",
      "{'href': '/pe/cuidado-personal/ni%c3%b1os-y-beb%c3%a9/colonia-beb%c3%a9s/c/esika-040403', 'title': 'Colonia Bebés'}\n",
      "{'href': '/pe/cuidado-personal/ni%c3%b1os-y-beb%c3%a9/shampoo-beb%c3%a9s/c/esika-040401', 'title': 'Shampoo Bebés'}\n",
      "{'href': '/pe/cuidado-personal/ni%c3%b1os-y-beb%c3%a9/colonias-ni%c3%b1os/c/esika-040406', 'title': 'Colonias Niños'}\n",
      "{'href': '/pe/cuidado-personal/ni%c3%b1os-y-beb%c3%a9/loci%c3%b3n-beb%c3%a9s/c/esika-040404', 'title': 'Loción Bebés'}\n",
      "{'href': '/pe/cuidado-personal/ni%c3%b1os-y-beb%c3%a9/desenredante/c/esika-040407', 'title': 'Desenredante'}\n",
      "{'href': '/pe/cuidado-personal/ni%c3%b1os-y-beb%c3%a9/shampoo-2-en-1-ni%c3%b1os/c/esika-040405', 'title': 'Shampoo 2 en 1 Niños'}\n",
      "{'href': '/pe/cuidado-personal/ni%c3%b1os-y-beb%c3%a9/gel-para-peinar/c/esika-040408', 'title': 'Gel Para Peinar'}\n",
      "{'href': '/pe/ritualeza/c/esika-ritualeza', 'class': 'bic-menu-banner-screen-item__link js-bic-menu-banner-screen-item-link', 'target': '_self', 'data-cms-styles': '{\\n        \"default\": {\\n            \"color\": \"#000000\",\\n            \"fontFamily\": \"BrownStd, Helvetica, Arial, sans-serif\",\\n            \"fontSize\": \"14px\"\\n        }\\n    }'}\n",
      "{'href': 'https://esika.tiendabelcorp.com/pe/émotions/c/esika-emotions-01'}\n",
      "{'href': '/pe/ritualeza/c/esika-ritualeza', 'class': 'bic-menu-banner-screen-item__link js-bic-menu-banner-screen-item-link', 'target': '_self', 'data-cms-styles': '{\\n        \"default\": {\\n            \"color\": \"#000000\",\\n            \"fontFamily\": \"BrownStd, Helvetica, Arial, sans-serif\",\\n            \"fontSize\": \"14px\"\\n        }\\n    }'}\n",
      "{'href': '/pe/tratamiento-piel/c/esika-03', 'title': 'CUIDADO DE LA PIEL'}\n",
      "{'class': 'sm-back js-enquire-sub-close hidden-md hidden-lg', 'href': '#'}\n",
      "{'href': '/pe/tratamiento-piel/linea-oxygen-supreme/c/esika-0309', 'title': 'Oxygen Supreme', 'target': '_blank', 'rel': 'noopener noreferrer'}\n",
      "{'href': '/pe/tratamiento-piel/limpiadoras-y-desmaquilladores/c/esika-0301', 'title': 'Limpiadoras y Demaquilladoras'}\n",
      "{'href': '/pe/tratamiento-piel/limpiadoras-y-desmaquilladores/oxygen-supreme/c/esika-030103', 'title': 'Oxygen Supreme'}\n",
      "{'href': '/pe/tratamiento-piel/limpiadoras-y-desmaquilladores/triple-acci%c3%b3n/c/esika-030102', 'title': 'Triple Acción'}\n",
      "{'href': '/pe/tratamiento-piel/hidratantes/c/esika-0303', 'title': 'Hidratantes'}\n",
      "{'href': '/pe/tratamiento-piel/hidratantes/oxygen-supreme/c/esika-030303', 'title': 'Oxygen Supreme'}\n",
      "{'href': '/pe/tratamiento-piel/hidratantes/triple-acci%c3%b3n/c/esika-030302', 'title': 'Triple Acción'}\n",
      "{'href': '/pe/tratamiento-piel/nutritivas/c/esika-0304', 'title': 'Nutritivas'}\n",
      "{'href': '/pe/tratamiento-piel/nutritivas/oxygen-supreme/c/esika-030403', 'title': 'Oxygen Supreme'}\n",
      "{'href': '/pe/tratamiento-piel/nutritivas/triple-acci%c3%b3n/c/esika-030402', 'title': 'Triple Acción'}\n",
      "{'href': '/pe/tratamiento-piel/cuidado-de-ojos/c/esika-0305', 'title': 'Cuidado de Ojos'}\n",
      "{'href': 'https://esika.tiendabelcorp.com/pe/tratamiento-piel/cuidado-de-ojos/contorno-de-ojos-oxygen-supreme/c/esika-030501', 'title': 'Oxygen Supreme'}\n",
      "{'href': '/pe/tratamiento-piel/cuidado-de-ojos/triple-acci%c3%b3n/c/esika-030502', 'title': 'Triple Acción'}\n",
      "{'href': '/pe/tratamiento-piel/antimanchas/c/esika-0306', 'title': 'Antimanchas'}\n",
      "{'href': '/pe/tratamiento-piel/antimanchas/triple-acci%c3%b3n/c/esika-030602', 'title': 'Triple Acción'}\n",
      "{'href': '/pe/tratamiento-piel/protectores-solares/c/esika-0307', 'title': 'Protectores Solares'}\n",
      "{'href': '/pe/tratamiento-piel/protectores-solares/perfect-block/c/esika-030701', 'title': 'Perfect Block'}\n",
      "{'href': 'https://beautytech.esika.com/pe/diagnosticodepielonline', 'title': 'Diagnóstico* de Piel Online', 'target': '_blank', 'rel': 'noopener noreferrer'}\n",
      "{'href': 'https://belcorp.esika.com/linea-oxygen-supreme/'}\n",
      "{'href': 'https://beautytech.esika.com/pe/diagnosticodepielonline'}\n",
      "{'href': 'https://beautytech.esika.com/pe/diagnosticodepielonline/'}\n",
      "{'href': '/pe/bijouterie/c/esika-07', 'title': 'Joyería'}\n",
      "{'class': 'sm-back js-enquire-sub-close hidden-md hidden-lg', 'href': '#'}\n",
      "{'href': '/pe/bijouterie/lo-nuevo/c/esika-0704', 'title': 'Lo Nuevo'}\n",
      "{'href': '/pe/bijouterie/lo-nuevo/joyer%c3%ada/c/esika-070401', 'title': 'Joyería'}\n",
      "{'href': '/pe/bijouterie/lo-nuevo/relojes/c/esika-070402', 'title': 'Relojes'}\n",
      "{'href': '/pe/bijouterie/lo-nuevo/lentes/c/esika-070403', 'title': 'Lentes'}\n",
      "{'href': '/pe/bijouterie/mujer/c/esika-0705', 'title': 'Mujer'}\n",
      "{'href': '/pe/bijouterie/mujer/bijouterie/collares/c/esika-07050103', 'title': '\\xa0\\xa0\\xa0\\xa0Collares'}\n",
      "{'href': '/pe/bijouterie/mujer/bijouterie/aretes/c/esika-07050104', 'title': '\\xa0\\xa0\\xa0\\xa0Aretes'}\n",
      "{'href': '/pe/bijouterie/mujer/bijouterie/estuche-de-aretes/c/esika-07050102', 'title': '\\xa0\\xa0\\xa0\\xa0Estuche de Aretes'}\n",
      "{'href': '/pe/bijouterie/mujer/bijouterie/pulseras/c/esika-07050105', 'title': '\\xa0\\xa0\\xa0\\xa0Pulseras'}\n",
      "{'href': '/pe/bijouterie/mujer/bijouterie/bijouterie/c/esika-07050106', 'title': '\\xa0\\xa0\\xa0\\xa0Anillos'}\n",
      "{'href': '/pe/bijouterie/mujer/bijouterie/sets/c/esika-07050101', 'title': '\\xa0\\xa0\\xa0\\xa0Sets'}\n",
      "{'href': '/pe/bijouterie/mujer/relojes/c/esika-070502', 'title': 'Relojes'}\n",
      "{'href': '/pe/bijouterie/mujer/lentes/c/esika-070503', 'title': 'Lentes'}\n",
      "{'href': '/pe/bijouterie/hombre/c/esika-0706', 'title': 'Hombre'}\n",
      "{'href': '/pe/bijouterie/hombre/relojes/c/esika-070602', 'title': 'Relojes'}\n",
      "{'href': '/pe/bijouterie/ni%c3%91os/c/esika-0707', 'title': 'Niños'}\n",
      "{'href': '/pe/bijouterie/ni%c3%91os/bijouterie/c/esika-070701', 'title': 'Joyería'}\n",
      "{'href': '/pe/bijouterie/ni%c3%91os/carteras-%26-mochilas/c/esika-070703', 'title': 'Carteras & Mochilas'}\n",
      "{'href': 'https://belcorp.esika.com/pe/joyeria-esika/'}\n",
      "{'href': 'https://belcorp.esika.com/pe/joyeria-esika', 'class': 'bic-menu-banner-screen-item__link js-bic-menu-banner-screen-item-link', 'target': '_blank', 'data-cms-styles': '{\\n        \"default\": {\\n            \"color\": \"#000\",\\n            \"fontFamily\": \"Lasiver-new, Helvetica, Arial, sans-serif\",\\n            \"fontSize\": \"14\"\\n        }\\n    }'}\n",
      "{'href': 'https://belcorp.esika.com/pe/esika-trend/', 'title': 'Blog', 'target': '_blank', 'rel': 'noopener noreferrer'}\n",
      "{'href': '/pe/promocionesparati', 'title': 'Ofertas'}\n",
      "{'href': 'https://uneteabelcorp.com/pe?vieneDe=ECOM', 'target': '_blank'}\n",
      "{'href': '#', 'class': 'item active gallery-image__thumbnail-js', 'data-item': '0'}\n",
      "{'href': '#', 'class': 'item  gallery-image__thumbnail-js', 'data-item': '1'}\n",
      "{'href': '#', 'class': 'item  gallery-image__thumbnail-js', 'data-item': '2'}\n",
      "{'href': '#', 'class': 'item  gallery-image__thumbnail-js', 'data-item': '3'}\n",
      "{'href': '#', 'class': 'item  gallery-image__thumbnail-js', 'data-item': '4'}\n",
      "{'href': '#', 'class': 'item  gallery-image__thumbnail-js', 'data-item': '5'}\n",
      "{'href': '#', 'class': 'item  gallery-image__thumbnail-js', 'data-item': '6'}\n",
      "{'href': '#', 'class': 'item  gallery-image__thumbnail-js', 'data-item': '7'}\n",
      "{'href': '#', 'class': 'item active gallery-image__thumbnail-js', 'data-item': '0'}\n",
      "{'href': '#', 'class': 'item  gallery-image__thumbnail-js', 'data-item': '1'}\n",
      "{'href': '#', 'class': 'item  gallery-image__thumbnail-js', 'data-item': '2'}\n",
      "{'href': '#', 'class': 'item  gallery-image__thumbnail-js', 'data-item': '3'}\n",
      "{'href': '#', 'class': 'item  gallery-image__thumbnail-js', 'data-item': '4'}\n",
      "{'href': '#', 'class': 'item  gallery-image__thumbnail-js', 'data-item': '5'}\n",
      "{'href': '#', 'class': 'item  gallery-image__thumbnail-js', 'data-item': '6'}\n",
      "{'href': '#', 'class': 'item  gallery-image__thumbnail-js', 'data-item': '7'}\n",
      "{'href': 'https://cdn.tiendabelcorp.com/codigos/codigos_nso_C10_2022.pdf'}\n",
      "{'role': 'button', 'data-toggle': 'collapse', 'data-parent': '#accordion-footer', 'href': '#accordion-brands', 'aria-expanded': 'true', 'aria-controls': 'accordion-brands'}\n",
      "{'href': 'https://esika.tiendabelcorp.com/pe/', 'target': '_blank', 'data-role': 'menu', 'data-region': 'Footer', 'data-parent': 'Nuestras Marcas', 'data-title': 'ésika', 'id': 'lnk-foo-bicbrandesikalink'}\n",
      "{'href': 'https://lbel.tiendabelcorp.com/pe/', 'target': '_blank', 'data-role': 'menu', 'data-region': 'Footer', 'data-parent': 'Nuestras Marcas', 'data-title': \"L'Bel\", 'id': 'lnk-foo-bicbrandlbellink'}\n",
      "{'href': 'https://cyzone.tiendabelcorp.com/pe/', 'target': '_blank', 'data-role': 'menu', 'data-region': 'Footer', 'data-parent': 'Nuestras Marcas', 'data-title': 'Cyzone', 'id': 'lnk-foo-bicbrandcyzonelink'}\n",
      "{'href': 'https://belcorp.esika.com/pe/nuestras-tiendas/', 'target': '_blank', 'data-role': 'menu', 'data-region': 'Footer', 'data-parent': 'Nuestras Marcas', 'data-title': 'Nuestras tiendas', 'id': 'lnk-foo-cmsitem_00599119'}\n",
      "{'class': 'collapsed', 'role': 'button', 'data-toggle': 'collapse', 'data-parent': '#accordion-footer', 'href': '#accordion-help', 'aria-expanded': 'false', 'aria-controls': 'accordion-help'}\n",
      "{'href': 'https://belcorp.esika.com/pe/catalogo-virtual/', 'data-role': 'menu', 'data-region': 'Footer', 'data-parent': 'Catalogos', 'data-title': 'Ver Catálogo ésika', 'id': 'lnk-foo-bicseeesikacataloglink'}\n",
      "{'href': 'https://trends.lbel.com/pe/catalogo/', 'data-role': 'menu', 'data-region': 'Footer', 'data-parent': 'Catalogos', 'data-title': \"Ver catálogo L'Bel\", 'id': 'lnk-foo-bicseelbelcataloglink'}\n",
      "{'href': 'https://cyzone.cyzone.com/pe/catalogo/', 'data-role': 'menu', 'data-region': 'Footer', 'data-parent': 'Catalogos', 'data-title': 'Ver catálogo Cyzone', 'id': 'lnk-foo-bicseecyzonecataloglink'}\n",
      "{'class': 'collapsed', 'role': 'button', 'data-toggle': 'collapse', 'data-parent': '#accordion-footer', 'href': '#acordion-legal', 'aria-expanded': 'false', 'aria-controls': 'acordion-legal'}\n",
      "{'href': 'https://cdn1-prd.beautymovers.com/Legal/Condicionesdeusocommerce.pdf', 'target': '_blank', 'data-role': 'menu', 'data-region': 'Footer', 'data-parent': 'Legal', 'data-title': 'Condiciones de uso', 'id': 'lnk-foo-biclegalconditionslink'}\n",
      "{'href': 'https://cdn1-prd.beautymovers.com/Legal/2021/Politicadeprivacidadcommerce.pdf', 'target': '_blank', 'data-role': 'menu', 'data-region': 'Footer', 'data-parent': 'Legal', 'data-title': 'Política de privacidad', 'id': 'lnk-foo-biclegalpolicylink'}\n",
      "{'href': 'https://cdn1-prd.beautymovers.com/Legal/2021/TyCcommerce.pdf', 'target': '_blank', 'data-role': 'menu', 'data-region': 'Footer', 'data-parent': 'Legal', 'data-title': 'Términos y condiciones', 'id': 'lnk-foo-biclegaltermslink'}\n",
      "{'href': 'https://cdn1-prd.beautymovers.com/Legal/Derechosarcocommerce.pdf', 'target': '_blank', 'data-role': 'menu', 'data-region': 'Footer', 'data-parent': 'Legal', 'data-title': 'Derechos ARCO', 'id': 'lnk-foo-biclegalrightslink'}\n",
      "{'href': 'https://cdn1-prd.beautymovers.com/Legal/2021/Autorizaci%C3%B3n%20para%20el%20env%C3%ADo%20de%20publicidad/Autorizaci%C3%B3n%20para%20el%20env%C3%ADo%20de%20publicidad%20PE%20%2816-11-2020%29.pdf', 'target': '_blank', 'data-role': 'menu', 'data-region': 'Footer', 'data-parent': 'Legal', 'data-title': 'Autorización para el envío de publicidad', 'id': 'lnk-foo-biclegaladvertisinglink'}\n",
      "{'href': 'https://cdn1-prd.beautymovers.com/Legal/FechadepromocionescatalogoPE.pdf', 'target': '_blank', 'data-role': 'menu', 'data-region': 'Footer', 'data-parent': 'Legal', 'data-title': 'Fechas de promociones catálogo', 'id': 'lnk-foo-biclegalpromotionslink'}\n",
      "{'href': 'https://cdn1-prd.beautymovers.com/Legal/Notesteadoenanimales.pdf', 'target': '_blank', 'data-role': 'menu', 'data-region': 'Footer', 'data-parent': 'Legal', 'data-title': 'No testeo en animales', 'id': 'lnk-foo-biclegalnoanimalstestlink'}\n",
      "{'href': 'https://cdn1-prd.beautymovers.com/Legal/2021/Pol%C3%ADtica%20de%20Cambios%20y%20devoluciones/Pol%C3%ADticadeCyD%20PE.pdf', 'target': '_blank', 'data-role': 'menu', 'data-region': 'Footer', 'data-parent': 'Legal', 'data-title': 'Política de cambios y devoluciones', 'id': 'lnk-foo-biclegalexchangeslink_esika'}\n",
      "{'class': 'collapsed', 'role': 'button', 'data-toggle': 'collapse', 'data-parent': '#accordion-footer', 'href': '#acordion-contact', 'aria-expanded': 'false', 'aria-controls': 'acordion-contact'}\n",
      "{'href': 'https://belcorp.esika.com/pe/cat-compra-seguro', 'target': '_blank', 'data-role': 'menu', 'data-region': 'Footer', 'data-parent': 'Contáctanos', 'data-title': 'Cómo comprar', 'id': 'lnk-foo-biclegalhowtobuylink'}\n",
      "{'href': 'https://www.esika.com/pe/customer-service-landing', 'target': '_blank', 'data-role': 'menu', 'data-region': 'Footer', 'data-parent': 'Contáctanos', 'data-title': 'Preguntas frecuentes', 'id': 'lnk-foo-biclegalfaqlink_esika'}\n",
      "{'href': '/cdn-cgi/l/email-protection#d8bbb7b6abadb4acb9bbb7b5a8aab9ab889d98babdb4bbb7aaa8f6bab1a2', 'target': '_blank', 'data-role': 'menu', 'data-region': 'Footer', 'data-parent': 'Contáctanos', 'data-title': 'Escríbenos', 'id': 'lnk-foo-biclegalwriteuslink'}\n",
      "{'href': 'https://uneteabelcorp.com/pe?vieneDe=ECOM', 'target': '_blank', 'data-role': 'menu', 'data-region': 'Footer', 'data-parent': 'Contáctanos', 'data-title': 'Quiero ser asesora', 'id': 'lnk-foo-biclegalcounselorlink'}\n",
      "{'href': 'https://esika.tiendabelcorp.com/pe/', 'target': '_blank', 'data-role': 'menu', 'data-region': 'Footer', 'data-parent': 'Nuestras Marcas', 'data-title': 'ésika', 'id': 'lnk-foo-bicbrandesikalink'}\n",
      "{'href': 'https://lbel.tiendabelcorp.com/pe/', 'target': '_blank', 'data-role': 'menu', 'data-region': 'Footer', 'data-parent': 'Nuestras Marcas', 'data-title': \"L'Bel\", 'id': 'lnk-foo-bicbrandlbellink'}\n",
      "{'href': 'https://cyzone.tiendabelcorp.com/pe/', 'target': '_blank', 'data-role': 'menu', 'data-region': 'Footer', 'data-parent': 'Nuestras Marcas', 'data-title': 'Cyzone', 'id': 'lnk-foo-bicbrandcyzonelink'}\n",
      "{'href': 'https://belcorp.esika.com/pe/nuestras-tiendas/', 'target': '_blank', 'data-role': 'menu', 'data-region': 'Footer', 'data-parent': 'Nuestras Marcas', 'data-title': 'Nuestras tiendas', 'id': 'lnk-foo-cmsitem_00599119'}\n",
      "{'href': 'https://belcorp.esika.com/pe/catalogo-virtual/', 'data-role': 'menu', 'data-region': 'Footer', 'data-parent': 'Catálogos', 'data-title': 'Ver Catálogo ésika', 'id': 'lnk-foo-bicseeesikacataloglink'}\n",
      "{'href': 'https://trends.lbel.com/pe/catalogo/', 'data-role': 'menu', 'data-region': 'Footer', 'data-parent': 'Catálogos', 'data-title': \"Ver catálogo L'Bel\", 'id': 'lnk-foo-bicseelbelcataloglink'}\n",
      "{'href': 'https://cyzone.cyzone.com/pe/catalogo/', 'data-role': 'menu', 'data-region': 'Footer', 'data-parent': 'Catálogos', 'data-title': 'Ver catálogo Cyzone', 'id': 'lnk-foo-bicseecyzonecataloglink'}\n",
      "{'href': 'https://cdn1-prd.beautymovers.com/Legal/Condicionesdeusocommerce.pdf', 'target': '_blank', 'data-role': 'menu', 'data-region': 'Footer', 'data-parent': 'Legal', 'data-title': 'Condiciones de uso', 'id': 'lnk-foo-biclegalconditionslink'}\n",
      "{'href': 'https://cdn1-prd.beautymovers.com/Legal/2021/Politicadeprivacidadcommerce.pdf', 'target': '_blank', 'data-role': 'menu', 'data-region': 'Footer', 'data-parent': 'Legal', 'data-title': 'Política de privacidad', 'id': 'lnk-foo-biclegalpolicylink'}\n",
      "{'href': 'https://cdn1-prd.beautymovers.com/Legal/2021/TyCcommerce.pdf', 'target': '_blank', 'data-role': 'menu', 'data-region': 'Footer', 'data-parent': 'Legal', 'data-title': 'Términos y condiciones', 'id': 'lnk-foo-biclegaltermslink'}\n",
      "{'href': 'https://cdn1-prd.beautymovers.com/Legal/Derechosarcocommerce.pdf', 'target': '_blank', 'data-role': 'menu', 'data-region': 'Footer', 'data-parent': 'Legal', 'data-title': 'Derechos ARCO', 'id': 'lnk-foo-biclegalrightslink'}\n",
      "{'href': 'https://cdn1-prd.beautymovers.com/Legal/2021/Autorizaci%C3%B3n%20para%20el%20env%C3%ADo%20de%20publicidad/Autorizaci%C3%B3n%20para%20el%20env%C3%ADo%20de%20publicidad%20PE%20%2816-11-2020%29.pdf', 'target': '_blank', 'data-role': 'menu', 'data-region': 'Footer', 'data-parent': 'Legal', 'data-title': 'Autorización para el envío de publicidad', 'id': 'lnk-foo-biclegaladvertisinglink'}\n",
      "{'href': 'https://cdn1-prd.beautymovers.com/Legal/FechadepromocionescatalogoPE.pdf', 'target': '_blank', 'data-role': 'menu', 'data-region': 'Footer', 'data-parent': 'Legal', 'data-title': 'Fechas de promociones catálogo', 'id': 'lnk-foo-biclegalpromotionslink'}\n",
      "{'href': 'https://cdn1-prd.beautymovers.com/Legal/Notesteadoenanimales.pdf', 'target': '_blank', 'data-role': 'menu', 'data-region': 'Footer', 'data-parent': 'Legal', 'data-title': 'No testeo en animales', 'id': 'lnk-foo-biclegalnoanimalstestlink'}\n",
      "{'href': 'https://cdn1-prd.beautymovers.com/Legal/2021/Pol%C3%ADtica%20de%20Cambios%20y%20devoluciones/Pol%C3%ADticadeCyD%20PE.pdf', 'target': '_blank', 'data-role': 'menu', 'data-region': 'Footer', 'data-parent': 'Legal', 'data-title': 'Política de cambios y devoluciones', 'id': 'lnk-foo-biclegalexchangeslink_esika'}\n",
      "{'href': 'https://belcorp.esika.com/pe/cat-compra-seguro', 'target': '_blank', 'data-role': 'menu', 'data-region': 'Footer', 'data-parent': 'Contáctanos', 'data-title': 'Cómo comprar', 'id': 'lnk-foo-biclegalhowtobuylink'}\n",
      "{'href': 'https://www.esika.com/pe/customer-service-landing', 'target': '_blank', 'data-role': 'menu', 'data-region': 'Footer', 'data-parent': 'Contáctanos', 'data-title': 'Preguntas frecuentes', 'id': 'lnk-foo-biclegalfaqlink_esika'}\n",
      "{'href': '/cdn-cgi/l/email-protection#ddbeb2b3aea8b1a9bcbeb2b0adafbcae8d989dbfb8b1beb2afadf3bfb4a7', 'target': '_blank', 'data-role': 'menu', 'data-region': 'Footer', 'data-parent': 'Contáctanos', 'data-title': 'Escríbenos', 'id': 'lnk-foo-biclegalwriteuslink'}\n",
      "{'href': 'https://uneteabelcorp.com/pe?vieneDe=ECOM', 'target': '_blank', 'data-role': 'menu', 'data-region': 'Footer', 'data-parent': 'Contáctanos', 'data-title': 'Quiero ser asesora', 'id': 'lnk-foo-biclegalcounselorlink'}\n",
      "{'href': 'https://www.facebook.com/esika.oficial', 'class': 'bic-social-networks__btn', 'target': 'blank'}\n",
      "{'href': 'https://www.instagram.com/esika.oficial/', 'class': 'bic-social-networks__btn', 'target': 'blank'}\n",
      "{'href': 'https://www.youtube.com/c/EsikaBelcorp', 'class': 'bic-social-networks__btn', 'target': 'blank'}\n",
      "{'href': 'https://librodereclamaciones.belcorp.biz/', 'target': '_blank'}\n"
     ]
    }
   ],
   "source": [
    "for img in root.iter('a'):\n",
    "    print(img.attrib)"
   ]
  },
  {
   "cell_type": "markdown",
   "metadata": {},
   "source": [
    "* `Element.findall()` finds only elements with a tag which are direct children of the current element.\n",
    "* `Element.find()` finds the first child with a particular tag\n",
    "* `Element.attrib` return in a dict the attributes and their values of current particular.\n",
    "  * Once we check the attributes of the element we can use `Element.get()` to extract the value of the element’s attribute.\n",
    "* `Element.text` accesses the element’s text content. "
   ]
  },
  {
   "cell_type": "code",
   "execution_count": 6,
   "metadata": {},
   "outputs": [
    {
     "name": "stdout",
     "output_type": "stream",
     "text": [
      "* ATTRIBUTES: -> body {'class': 'page-productDetails pageType-ProductPage template-pages-product-productLayout1Page  smartedit-page-uid-productDetails smartedit-page-uuid-eyJpdGVtSWQiOiJwcm9kdWN0RGV0YWlscyIsImNhdGFsb2dJZCI6InBlQ29udGVudENhdGFsb2ciLCJjYXRhbG9nVmVyc2lvbiI6Ik9ubGluZSJ9 smartedit-catalog-version-uuid-peContentCatalog/Online  language-es_PE selected-brand-esika rich-relevance-personalization'}\n",
      "* Get the attribute CLASS:  -> page-productDetails pageType-ProductPage template-pages-product-productLayout1Page  smartedit-page-uid-productDetails smartedit-page-uuid-eyJpdGVtSWQiOiJwcm9kdWN0RGV0YWlscyIsImNhdGFsb2dJZCI6InBlQ29udGVudENhdGFsb2ciLCJjYXRhbG9nVmVyc2lvbiI6Ik9ubGluZSJ9 smartedit-catalog-version-uuid-peContentCatalog/Online  language-es_PE selected-brand-esika rich-relevance-personalization\n",
      "* Get the TEXT: -> \n",
      "\n",
      "\n",
      "* Get the CHILDREN: -> [<Element noscript at 0x22854549040>, <Element div at 0x22855942090>, <Element noscript at 0x22855942130>, <Element script at 0x22855942040>, <Element div at 0x22855942680>, <Element div at 0x228559426d0>, <Element div at 0x22855942720>, <Element main at 0x22855942770>, <Element form at 0x228559427c0>, <Element div at 0x22855942810>, <Element script at 0x22855942860>, <Element script at 0x228559428b0>, <Element script at 0x22855942900>, <Element script at 0x22855942950>, <Element script at 0x228559429a0>, <Element script at 0x228559429f0>, <Element script at 0x22855942a40>, <Element script at 0x22855942a90>, <Element script at 0x22855942ae0>, <Element script at 0x22855942b30>, <Element script at 0x22855942b80>, <Element script at 0x22855942bd0>, <Element script at 0x22855942c20>, <Element script at 0x22855942c70>, <Element script at 0x22855942cc0>, <Element script at 0x22855942d10>, <Element script at 0x22855942d60>, <Element script at 0x22855942db0>, <Element script at 0x22855942e00>, <Element script at 0x22855942e50>, <Element script at 0x22855942ea0>, <Element form at 0x22855942ef0>, <Element script at 0x22855942f40>, <Element script at 0x22855942f90>, <Element script at 0x22855947040>, <Element script at 0x22855947090>, <Element script at 0x228559470e0>, <Element script at 0x22855947130>, <Element noscript at 0x22855947180>, <Element script at 0x228559471d0>, <Element script at 0x22855947220>]\n"
     ]
    }
   ],
   "source": [
    "for elt_class in root.findall('body'):   # the only tag children is body for root\n",
    "    print('* ATTRIBUTES: ->'.ljust(15) ,elt_class.tag, elt_class.attrib)\n",
    "    print('* Get the attribute CLASS:  ->'.ljust(15),elt_class.get('class'))\n",
    "    print('* Get the TEXT: ->'.ljust(15),elt_class.text)\n",
    "    print('* Get the CHILDREN: ->'.ljust(15), elt_class.getchildren()) # To obtain all direct children for body's elements"
   ]
  },
  {
   "cell_type": "code",
   "execution_count": 7,
   "metadata": {},
   "outputs": [
    {
     "name": "stdout",
     "output_type": "stream",
     "text": [
      "For the tag Name:  body\n",
      "* Tag Name div and their attributes {'id': 'js-site-overlay', 'class': 'site-overlay'}\n",
      "* Tag Name div and their attributes {'class': 'global-page-info-msg-esika global-page-info-msg-component'}\n",
      "* Tag Name div and their attributes {'class': 'cci-header-mobile-desktop  pe'}\n",
      "* Tag Name div and their attributes {'class': 'b2c-header-mobile pe branding-mobile hidden-md hidden-lg'}\n",
      "* Tag Name div and their attributes {'id': 'ariaStatusMsg', 'class': 'skip', 'role': 'status', 'aria-relevant': 'text', 'aria-live': 'polite'}\n"
     ]
    }
   ],
   "source": [
    "elements_body = root.findall('body')            # The only tag children is body for root\n",
    "\n",
    "for el_body in elements_body:                   # For each element body\n",
    "    print('For the tag Name: ',el_body.tag)\n",
    "    elements_div = el_body.findall('div')       # find all children div\n",
    "    for i, el_div in enumerate(elements_div):   \n",
    "        print(f'> Tag Name {el_div.tag} and their attributes {el_div.attrib}')"
   ]
  },
  {
   "cell_type": "markdown",
   "metadata": {},
   "source": [
    "## XPath support"
   ]
  },
  {
   "cell_type": "markdown",
   "metadata": {},
   "source": [
    "XPath (XML  Path Language) is a language to support queries or transformation of XML documents.\n",
    "\n",
    "Web browswer support  XML, so it can support XPath, then it can used to extract some information.\n",
    "\n",
    "In the console of a browser we can pass this code `$x(\"...\")`, obviously changing the 3 dots by the XPath"
   ]
  },
  {
   "cell_type": "markdown",
   "metadata": {},
   "source": [
    "* Selector description  XPath Selector\n",
    "* Select all links        `'//a'`\n",
    "* Select div with class \"main\"  `'//div[@class=\"main\"]'`\n",
    "* Select ul with ID \"list\"  `'//ul[@id=\"list\"]'`\n",
    "* Select text from all paragraphs  `'//p/text()'`\n",
    "* Select all divs which contain 'test' in the class  `'//div[contains(@class, 'test')]'`\n",
    "* Select all divs with links or lists in them `'//div[a|ul] '`\n",
    "* Select a link with google.com in the href  `'//a[contains(@href, \"google.com\")]'`\n",
    "* Get specifically data from src `'//td/img/(@src)'`"
   ]
  },
  {
   "cell_type": "markdown",
   "metadata": {},
   "source": [
    "https://www.w3schools.com/xml/xpath_examples.asp"
   ]
  },
  {
   "cell_type": "code",
   "execution_count": 8,
   "metadata": {},
   "outputs": [],
   "source": [
    "import re\n",
    "from pathlib import Path"
   ]
  },
  {
   "cell_type": "code",
   "execution_count": 9,
   "metadata": {},
   "outputs": [],
   "source": [
    "links = set()\n",
    "for element in root.xpath('//img'):\n",
    "    if element.get('data-src'):\n",
    "        if re.search(r'.*http.*\\.jpg$', element.get('data-src')):\n",
    "            link = re.search(r'.*(http.*\\.jpg$)', element.get('data-src')).group(1)\n",
    "            links.add(link)"
   ]
  },
  {
   "cell_type": "code",
   "execution_count": 10,
   "metadata": {},
   "outputs": [
    {
     "name": "stdout",
     "output_type": "stream",
     "text": [
      "Delineador líquido punta plumón Eye PRO\n"
     ]
    }
   ],
   "source": [
    "for element in root.xpath('//h1[@class=\"name\"]'):\n",
    "    print(element.text.strip())"
   ]
  },
  {
   "cell_type": "markdown",
   "metadata": {},
   "source": [
    "* contains"
   ]
  },
  {
   "cell_type": "code",
   "execution_count": 108,
   "metadata": {},
   "outputs": [
    {
     "name": "stdout",
     "output_type": "stream",
     "text": [
      "active-price S/ 44.00\n"
     ]
    }
   ],
   "source": [
    "for element in root.xpath('//div[contains(@class,\"simple-price\")]'): # we can use and and or \n",
    "    for el_chil in element.getchildren():\n",
    "        if el_chil.text:\n",
    "            print(el_chil.get('class'),el_chil.text.strip())"
   ]
  },
  {
   "cell_type": "markdown",
   "metadata": {},
   "source": [
    "* starts-with"
   ]
  },
  {
   "cell_type": "code",
   "execution_count": null,
   "metadata": {},
   "outputs": [],
   "source": [
    "Xpath=\"//label[starts-with(@id,'message')]\""
   ]
  },
  {
   "cell_type": "code",
   "execution_count": 159,
   "metadata": {},
   "outputs": [
    {
     "name": "stdout",
     "output_type": "stream",
     "text": [
      "html\n",
      "|---> head\n",
      "|--->|---> title\n",
      "|--->|---> link\n",
      "|--->|---> link\n",
      "|--->|---> link\n",
      "|--->|---> link\n",
      "|--->|---> link\n",
      "|--->|---> link\n",
      "|--->|---> link\n",
      "|--->|---> link\n",
      "|--->|---> link\n",
      "|--->|---> link\n",
      "|--->|---> script\n",
      "|--->|---> script\n",
      "|--->|---> script\n",
      "|--->|---> script\n",
      "|--->|---> style\n",
      "|--->|---> script\n",
      "|--->|---> script\n",
      "|--->|---> meta\n",
      "|--->|---> meta\n",
      "|--->|---> meta\n",
      "|--->|---> meta\n",
      "|--->|---> meta\n",
      "|--->|---> meta\n",
      "|--->|---> meta\n",
      "|--->|---> meta\n",
      "|--->|---> meta\n",
      "|--->|---> meta\n",
      "|--->|---> meta\n",
      "|--->|---> meta\n",
      "|--->|---> meta\n",
      "|--->|---> script\n",
      "|--->|---> script\n",
      "|--->|---> link\n",
      "|--->|---> link\n",
      "|--->|---> script\n",
      "|--->|---> link\n",
      "|--->|---> link\n",
      "|--->|---> link\n",
      "|--->|---> style\n",
      "|---> body\n",
      "|--->|---> noscript\n",
      "|--->|--->|---> iframe\n",
      "|--->|---> div\n",
      "|--->|---> noscript\n",
      "|--->|--->|---> iframe\n",
      "|--->|---> script\n",
      "|--->|---> div\n",
      "|--->|--->|---> div\n",
      "|--->|---> div\n",
      "|--->|--->|---> a\n",
      "|--->|---> div\n",
      "|--->|--->|---> button\n",
      "|--->|--->|---> div\n",
      "|--->|--->|---> div\n",
      "|--->|---> main\n",
      "|--->|--->|---> div\n",
      "|--->|--->|---> div\n",
      "|--->|--->|---> div\n",
      "|--->|--->|---> div\n",
      "|--->|--->|---> div\n",
      "|--->|--->|---> div\n",
      "|--->|---> form\n",
      "|--->|--->|---> input\n",
      "|--->|---> div\n",
      "|--->|---> script\n",
      "|--->|---> script\n",
      "|--->|---> script\n",
      "|--->|---> script\n",
      "|--->|---> script\n",
      "|--->|---> script\n",
      "|--->|---> script\n",
      "|--->|---> script\n",
      "|--->|---> script\n",
      "|--->|---> script\n",
      "|--->|---> script\n",
      "|--->|---> script\n",
      "|--->|---> script\n",
      "|--->|---> script\n",
      "|--->|---> script\n",
      "|--->|---> script\n",
      "|--->|---> script\n",
      "|--->|---> script\n",
      "|--->|---> script\n",
      "|--->|---> script\n",
      "|--->|---> script\n",
      "|--->|---> form\n",
      "|--->|--->|---> input\n",
      "|--->|--->|---> input\n",
      "|--->|---> script\n",
      "|--->|---> script\n",
      "|--->|---> script\n",
      "|--->|---> script\n",
      "|--->|---> script\n",
      "|--->|---> script\n",
      "|--->|---> noscript\n",
      "|--->|--->|---> p\n",
      "|--->|---> script\n",
      "|--->|---> script\n"
     ]
    }
   ],
   "source": [
    "top_elements= root.xpath('.') # top elements\n",
    "for el_0 in top_elements:\n",
    "    print(el_0.tag)\n",
    "    for el_1 in el_0.getchildren():\n",
    "        print('|--->',el_1.tag)\n",
    "        for el_2 in el_1.getchildren():\n",
    "            print('|--->'*2,el_2.tag)\n",
    "            for el_3 in el_2.getchildren():\n",
    "                print('|--->'*3,el_3.tag)"
   ]
  },
  {
   "cell_type": "code",
   "execution_count": 109,
   "metadata": {},
   "outputs": [
    {
     "name": "stdout",
     "output_type": "stream",
     "text": [
      "Tag:  div\n",
      "Attributes:  {'class': 'yCmsComponent yComponentWrapper page-details-variants-select-component'}\n",
      "Childrens:  [<Element div at 0x2494a1b6ef0>, <Element div at 0x2494a1b6c70>, <Element ul at 0x2494a1b6d10>]\n",
      "|----> {'class': 'js-tm-variant-category-pdp variant-category-pdp ', 'style': 'background-color:RGB(163,29,53);'}\n",
      "|----> {'class': 'js-tm-variant-category-pdp variant-category-pdp ', 'style': 'background-color:RGB(243,241,235);'}\n",
      "|----> {'class': 'js-tm-variant-category-pdp variant-category-pdp ', 'style': 'background-color:RGB(17,96,90);'}\n",
      "|----> {'class': 'js-tm-variant-category-pdp variant-category-pdp ', 'style': 'background-color:RGB(74,50,47);'}\n",
      "|----> {'class': 'js-tm-variant-category-pdp variant-category-pdp ', 'style': 'background-color:RGB(62,85,171);'}\n",
      "|----> {'class': 'js-tm-variant-category-pdp variant-category-pdp ', 'style': 'background-color:RGB(121,51,60);'}\n",
      "|----> {'class': 'js-tm-variant-category-pdp variant-category-pdp out-of-stock', 'style': 'background-color:RGB(43,41,88);'}\n",
      "|----> {'class': 'js-tm-variant-category-pdp variant-category-pdp out-of-stock', 'style': 'background-color:RGB(0,110,109);'}\n"
     ]
    }
   ],
   "source": [
    "elements = root.xpath('/html/body/main/div[3]/div[1]/div/div[3]/div[3]/div') \n",
    "\n",
    "for el_0 in elements:\n",
    "    print('Tag: ', el_0.tag)          # print the actual tag\n",
    "    print('Attributes: ', el_0.attrib)       # print their attributes\n",
    "    print('Childrens: ' , el_0.xpath('./*')) # print their children\n",
    "    for el_1 in el_0.xpath('.//ul'):\n",
    "        for el_2 in el_1.xpath('.//div[contains(@style,\"background\") and contains(@class,\"category\")]'):\n",
    "            print('|---->' , el_2.attrib)"
   ]
  },
  {
   "cell_type": "code",
   "execution_count": 12,
   "metadata": {},
   "outputs": [
    {
     "name": "stdout",
     "output_type": "stream",
     "text": [
      "a\n",
      "{'href': 'javascript:ConsultaPorEncuesta()'}\n",
      "[]\n",
      "a\n",
      "{'href': 'javascript:ConsultaPorEncuesta()'}\n"
     ]
    },
    {
     "ename": "IndexError",
     "evalue": "list index out of range",
     "output_type": "error",
     "traceback": [
      "\u001b[1;31m---------------------------------------------------------------------------\u001b[0m",
      "\u001b[1;31mIndexError\u001b[0m                                Traceback (most recent call last)",
      "\u001b[1;32m~\\AppData\\Local\\Temp/ipykernel_14792/3019367921.py\u001b[0m in \u001b[0;36m<module>\u001b[1;34m\u001b[0m\n\u001b[0;32m     17\u001b[0m \u001b[0mtree\u001b[0m \u001b[1;33m=\u001b[0m \u001b[0mfromstring\u001b[0m\u001b[1;33m(\u001b[0m\u001b[0mpage\u001b[0m\u001b[1;33m.\u001b[0m\u001b[0mdecode\u001b[0m\u001b[1;33m(\u001b[0m\u001b[1;33m)\u001b[0m\u001b[1;33m)\u001b[0m\u001b[1;33m\u001b[0m\u001b[1;33m\u001b[0m\u001b[0m\n\u001b[0;32m     18\u001b[0m \u001b[1;33m\u001b[0m\u001b[0m\n\u001b[1;32m---> 19\u001b[1;33m \u001b[0mtree\u001b[0m\u001b[1;33m.\u001b[0m\u001b[0mxpath\u001b[0m\u001b[1;33m(\u001b[0m\u001b[1;34m'//select[contains(@name, \"cmbAnno\")]'\u001b[0m\u001b[1;33m)\u001b[0m\u001b[1;33m[\u001b[0m\u001b[1;36m0\u001b[0m\u001b[1;33m]\u001b[0m\u001b[1;33m.\u001b[0m\u001b[0mattrib\u001b[0m\u001b[1;33m\u001b[0m\u001b[1;33m\u001b[0m\u001b[0m\n\u001b[0m\u001b[0;32m     20\u001b[0m \u001b[1;33m\u001b[0m\u001b[0m\n\u001b[0;32m     21\u001b[0m \u001b[0mtree\u001b[0m\u001b[1;33m.\u001b[0m\u001b[0mxpath\u001b[0m\u001b[1;33m(\u001b[0m\u001b[1;34m'//select[contains(@name, \"cmbAnno\")]//option[contains(@value, \"2010\")]'\u001b[0m\u001b[1;33m)\u001b[0m\u001b[1;33m[\u001b[0m\u001b[1;36m0\u001b[0m\u001b[1;33m]\u001b[0m\u001b[1;33m.\u001b[0m\u001b[0mattrib\u001b[0m\u001b[1;33m\u001b[0m\u001b[1;33m\u001b[0m\u001b[0m\n",
      "\u001b[1;31mIndexError\u001b[0m: list index out of range"
     ]
    }
   ],
   "source": [
    "response = requests.get(config['INEI_PATH'])\n",
    "tree = fromstring(response.text)\n",
    "elements = tree.xpath('//html/body//ul//li//a[contains(@href,\"ConsultaPorEncuesta\")]')\n",
    "\n",
    "for element in elements:\n",
    "    print(element.tag)\n",
    "    print(element.attrib)\n",
    "\n",
    "    print(element.findall('li'))\n",
    "    print(element.tag)\n",
    "    print(element.attrib)\n",
    "\n",
    "\n",
    "with open('page.txt', 'rb') as reader:\n",
    "    page = reader.read()\n",
    "\n",
    "tree = fromstring(page.decode())\n",
    "\n",
    "tree.xpath('//select[contains(@name, \"cmbAnno\")]')[0].attrib\n",
    "\n",
    "tree.xpath('//select[contains(@name, \"cmbAnno\")]//option[contains(@value, \"2010\")]')[0].attrib\n",
    "\n",
    "tree.xpath('//select[contains(@name, \"cmbTrimestre\")]')[0].attrib\n",
    "\n",
    "tree.xpath('//select[contains(@name, \"cmbTrimestre\")]//option[contains(@value, \"55\")]')[0].attrib\n",
    "\n",
    "tree.xpath('//td//a[contains(@href, \"03.zip\") and contains(@href, \"SPSS\")]')[0].attrib"
   ]
  },
  {
   "cell_type": "code",
   "execution_count": 1,
   "metadata": {},
   "outputs": [],
   "source": [
    "with open('./metro-page/Panadería y Pastelería_ Comprar Panes, Pasteles, Tortas.html', 'r', encoding='utf-8') as page:\n",
    "    page_web = page.read()\n",
    "\n",
    "root = fromstring(page_web)\n",
    "xpath = '//div[@id=\"js-menu-container\"]/div/a'\n",
    "container = []\n",
    "\n",
    "for item in root.xpath(xpath):\n",
    "    for child in item.getchildren():\n",
    "        base = {}\n",
    "        base['name'] = child.text\n",
    "        base['link'] = \"./\"+item.get('href').split('/')[-1]\n",
    "        container.append(base)"
   ]
  },
  {
   "cell_type": "code",
   "execution_count": null,
   "metadata": {},
   "outputs": [],
   "source": []
  }
 ],
 "metadata": {
  "kernelspec": {
   "display_name": "Python 3.9.7 ('base')",
   "language": "python",
   "name": "python3"
  },
  "language_info": {
   "codemirror_mode": {
    "name": "ipython",
    "version": 3
   },
   "file_extension": ".py",
   "mimetype": "text/x-python",
   "name": "python",
   "nbconvert_exporter": "python",
   "pygments_lexer": "ipython3",
   "version": "3.9.7"
  },
  "orig_nbformat": 4,
  "vscode": {
   "interpreter": {
    "hash": "7679c2132d3f6ce38c9df14d554b39c06862b36a4e6689c81f9ae15bd0911d7d"
   }
  }
 },
 "nbformat": 4,
 "nbformat_minor": 2
}
