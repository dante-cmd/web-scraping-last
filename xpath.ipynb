{
 "cells": [
  {
   "attachments": {},
   "cell_type": "markdown",
   "metadata": {},
   "source": [
    "# Pull data out from HTML files "
   ]
  },
  {
   "attachments": {},
   "cell_type": "markdown",
   "metadata": {},
   "source": [
    "### Beatiful Soup \n",
    "\n",
    "The fourth verion of Beatiful Soup come with many new facts\n",
    "\n",
    "https://beautiful-soup-4.readthedocs.io/en/latest/"
   ]
  },
  {
   "cell_type": "code",
   "execution_count": null,
   "metadata": {},
   "outputs": [],
   "source": []
  },
  {
   "attachments": {},
   "cell_type": "markdown",
   "metadata": {},
   "source": [
    "### HTML - Xpath"
   ]
  },
  {
   "cell_type": "markdown",
   "metadata": {},
   "source": [
    "An agent (browser) convert a document to *DOM*. This convertions allow us search an especifict node "
   ]
  },
  {
   "attachments": {},
   "cell_type": "markdown",
   "metadata": {
    "vscode": {
     "languageId": "plaintext"
    }
   },
   "source": [
    "https://stackoverflow.com/questions/4531995/getting-attribute-using-xpath\n",
    "\n",
    "https://docs.python.org/3/library/xml.etree.elementtree.html\n",
    "\n",
    "https://riptutorial.com/Download/xpath.pdf\n",
    "\n",
    "https://www.w3schools.com/xml/xpath_examples.asp"
   ]
  },
  {
   "attachments": {},
   "cell_type": "markdown",
   "metadata": {
    "vscode": {
     "languageId": "plaintext"
    }
   },
   "source": [
    "the most natural way to represent it is with a `tree`.\n",
    "\n",
    "ET has two classes for this purpose \n",
    "  - `ElementTree` that represents the whole XML document as a tree, and \n",
    "  - `Element` that represents a single node in this tree. \n",
    "\n",
    "Interactions with the `whole document` (reading and writing to/from files) are usually done on the `ElementTree` level. \n",
    "\n",
    "Interactions with a `single XML element` and its sub-elements are done on the `Element` level."
   ]
  },
  {
   "cell_type": "code",
   "execution_count": 1,
   "metadata": {},
   "outputs": [],
   "source": [
    "from lxml.html import fromstring, tostring\n",
    "import requests\n",
    "from pathlib import Path\n",
    "from urllib.parse import urljoin, urlparse, urlsplit\n",
    "from dotenv import dotenv_values"
   ]
  },
  {
   "cell_type": "code",
   "execution_count": 2,
   "metadata": {},
   "outputs": [
    {
     "ename": "FileNotFoundError",
     "evalue": "[Errno 2] No such file or directory: 'Science Fiction _ Books to Scrape - Sandbox.html'",
     "output_type": "error",
     "traceback": [
      "\u001b[1;31m---------------------------------------------------------------------------\u001b[0m",
      "\u001b[1;31mFileNotFoundError\u001b[0m                         Traceback (most recent call last)",
      "Cell \u001b[1;32mIn[2], line 1\u001b[0m\n\u001b[1;32m----> 1\u001b[0m \u001b[39mwith\u001b[39;00m \u001b[39mopen\u001b[39;49m(\u001b[39m'\u001b[39;49m\u001b[39mScience Fiction _ Books to Scrape - Sandbox.html\u001b[39;49m\u001b[39m'\u001b[39;49m, encoding\u001b[39m=\u001b[39;49m\u001b[39m'\u001b[39;49m\u001b[39mutf-8\u001b[39;49m\u001b[39m'\u001b[39;49m) \u001b[39mas\u001b[39;00m page:\n\u001b[0;32m      2\u001b[0m     page_source \u001b[39m=\u001b[39m page\u001b[39m.\u001b[39mread()\n\u001b[0;32m      4\u001b[0m root \u001b[39m=\u001b[39m fromstring(page_source)\n",
      "File \u001b[1;32mc:\\Users\\caima\\anaconda3\\lib\\site-packages\\IPython\\core\\interactiveshell.py:282\u001b[0m, in \u001b[0;36m_modified_open\u001b[1;34m(file, *args, **kwargs)\u001b[0m\n\u001b[0;32m    275\u001b[0m \u001b[39mif\u001b[39;00m file \u001b[39min\u001b[39;00m {\u001b[39m0\u001b[39m, \u001b[39m1\u001b[39m, \u001b[39m2\u001b[39m}:\n\u001b[0;32m    276\u001b[0m     \u001b[39mraise\u001b[39;00m \u001b[39mValueError\u001b[39;00m(\n\u001b[0;32m    277\u001b[0m         \u001b[39mf\u001b[39m\u001b[39m\"\u001b[39m\u001b[39mIPython won\u001b[39m\u001b[39m'\u001b[39m\u001b[39mt let you open fd=\u001b[39m\u001b[39m{\u001b[39;00mfile\u001b[39m}\u001b[39;00m\u001b[39m by default \u001b[39m\u001b[39m\"\u001b[39m\n\u001b[0;32m    278\u001b[0m         \u001b[39m\"\u001b[39m\u001b[39mas it is likely to crash IPython. If you know what you are doing, \u001b[39m\u001b[39m\"\u001b[39m\n\u001b[0;32m    279\u001b[0m         \u001b[39m\"\u001b[39m\u001b[39myou can use builtins\u001b[39m\u001b[39m'\u001b[39m\u001b[39m open.\u001b[39m\u001b[39m\"\u001b[39m\n\u001b[0;32m    280\u001b[0m     )\n\u001b[1;32m--> 282\u001b[0m \u001b[39mreturn\u001b[39;00m io_open(file, \u001b[39m*\u001b[39margs, \u001b[39m*\u001b[39m\u001b[39m*\u001b[39mkwargs)\n",
      "\u001b[1;31mFileNotFoundError\u001b[0m: [Errno 2] No such file or directory: 'Science Fiction _ Books to Scrape - Sandbox.html'"
     ]
    }
   ],
   "source": [
    "with open('Science Fiction _ Books to Scrape - Sandbox.html', encoding='utf-8') as page:\n",
    "    page_source = page.read()\n",
    "\n",
    "root = fromstring(page_source)"
   ]
  },
  {
   "cell_type": "code",
   "execution_count": 11,
   "metadata": {},
   "outputs": [],
   "source": [
    "elements_stock = root.xpath(\"//ol[@class='row']//li/article/div/p[@class='instock availability']\")\n",
    "elements_price = root.xpath('//ol[@class=\"row\"]//li/article/div/p[@class=\"price_color\"]')\n",
    "elements_title = root.xpath('//ol[@class=\"row\"]//li/article/h3/a')\n",
    "total = []\n",
    "for stock, price, title in zip(elements_stock, elements_price, elements_title):\n",
    "    total.append(\n",
    "        {\n",
    "            \"stock\":stock.text_content().strip(), \n",
    "            \"price\":price.text_content().strip(), \n",
    "            \"title\":title.text_content().strip()\n",
    "            }\n",
    "            )\n",
    "import pandas as pd\n",
    "pd.DataFrame(total)"
   ]
  },
  {
   "cell_type": "code",
   "execution_count": 4,
   "metadata": {},
   "outputs": [],
   "source": [
    "config = dotenv_values('./env/.env')"
   ]
  },
  {
   "cell_type": "code",
   "execution_count": 5,
   "metadata": {},
   "outputs": [],
   "source": [
    "user_agent = 'Mozilla/5.0'\n",
    "\n",
    "response = requests.get(\n",
    "    config['ESIKA_PATH'], \n",
    "    headers={'User-agent': user_agent})\n",
    "\n",
    "root = fromstring(response.text)"
   ]
  },
  {
   "attachments": {},
   "cell_type": "markdown",
   "metadata": {},
   "source": [
    "As an Element, root has a tag and a dictionary of attributes"
   ]
  },
  {
   "cell_type": "code",
   "execution_count": 7,
   "metadata": {},
   "outputs": [
    {
     "name": "stdout",
     "output_type": "stream",
     "text": [
      "Tag name current: html\n",
      "Attributes of Tag name current:  {'lang': 'es-PE'}\n"
     ]
    }
   ],
   "source": [
    "print('Tag name current:', root.tag)\n",
    "print('Attributes of Tag name current: ',root.attrib)"
   ]
  },
  {
   "attachments": {},
   "cell_type": "markdown",
   "metadata": {},
   "source": [
    "In order to access at children of a root, we use for loop."
   ]
  },
  {
   "cell_type": "code",
   "execution_count": 9,
   "metadata": {},
   "outputs": [
    {
     "name": "stdout",
     "output_type": "stream",
     "text": [
      "Tag name of child 0: head\n",
      "Attributes of child 0 : {}\n",
      "text of child 0: \n",
      "    \n",
      "class of child 0:  None\n",
      "\n",
      "Tag name of child 1: body\n",
      "Attributes of child 1 : {'class': 'bg-base'}\n",
      "text of child 1: \n",
      "  \n",
      "class of child 1:  bg-base\n",
      "\n"
     ]
    }
   ],
   "source": [
    "for i, child in enumerate(root):\n",
    "    print(f'Tag name of child {i}: {child.tag}' ) \n",
    "    print(f'Attributes of child {i} :' ,child.attrib)\n",
    "    print(f'text of child {i}: {child.text}' ) \n",
    "    print(f'class of child {i}: ', child.get('class'), end='\\n\\n') # we choose some attribute of child"
   ]
  },
  {
   "attachments": {},
   "cell_type": "markdown",
   "metadata": {},
   "source": [
    "Element has some useful methods that help iterate recursively over all the sub-tree below it (its children, their children, and so on)\n",
    "\n",
    "For example, `Element.iter()`"
   ]
  },
  {
   "cell_type": "code",
   "execution_count": 10,
   "metadata": {},
   "outputs": [
    {
     "name": "stdout",
     "output_type": "stream",
     "text": [
      "{'href': '/', 'class': 'belcorp-belcorp-challenge-0-x-storeButtonAnchorDesktopEsika'}\n",
      "{'href': '/', 'class': 'belcorp-belcorp-challenge-0-x-storeButtonAnchorDesktopLbel'}\n",
      "{'href': '/', 'class': 'belcorp-belcorp-challenge-0-x-storeButtonAnchorDesktopCyzone'}\n",
      "{'href': '#', 'class': 'vtex-store-link-0-x-link vtex-store-link-0-x-link--became-consultant'}\n",
      "{'href': '/checkout#/cart', 'class': 'belcorp-header-cart-button-0-x-cartButtonLink'}\n",
      "{'href': '/', 'class': 'vtex-store-components-3-x-logoLink vtex-store-components-3-x-logoLink--main-logo-esika'}\n",
      "{'href': '/favoritos/c', 'id': 'menu-item-desktop-favoritos', 'blockclass': 'menu-link-desktop', 'title': 'Favoritos', 'rel': 'nofollow noopener', 'class': 'vtex-menu-2-x-styledLink vtex-menu-2-x-styledLink--menu-link-desktop no-underline pointer t-body c-on-base pointer'}\n",
      "{'href': '/sets', 'id': 'menu-item-desktop-sets', 'blockclass': 'menu-link-desktop-submenu', 'src': '', 'link': '[object Object]', 'alt': '', 'title': 'Sets', 'analyticsproperties': 'none', 'class': 'vtex-menu-2-x-styledLink vtex-menu-2-x-styledLink--menu-link-desktop-submenu no-underline pointer t-body c-on-base pointer'}\n",
      "{'href': '/maquillaje/c', 'id': 'menu-item-desktop-maquillaje', 'blockclass': 'menu-link-desktop-submenu', 'title': 'maquillaje', 'class': 'vtex-menu-2-x-styledLink vtex-menu-2-x-styledLink--menu-link-desktop-submenu no-underline pointer t-body c-on-base pointer'}\n",
      "{'href': '/perfumes/c', 'id': 'menu-item-desktop-perfumes', 'blockclass': 'menu-link-desktop-submenu', 'title': 'perfumes', 'class': 'vtex-menu-2-x-styledLink vtex-menu-2-x-styledLink--menu-link-desktop-submenu no-underline pointer t-body c-on-base pointer'}\n",
      "{'href': '/skincare/c', 'id': 'menu-item-desktop-skincare', 'blockclass': 'menu-link-desktop-submenu', 'title': 'skincare', 'class': 'vtex-menu-2-x-styledLink vtex-menu-2-x-styledLink--menu-link-desktop-submenu no-underline pointer t-body c-on-base pointer'}\n",
      "{'href': '/cuidado-personal/c', 'id': 'menu-item-desktop-cuidado-personal', 'blockclass': 'menu-link-desktop-submenu', 'title': 'Cuidado Personal', 'class': 'vtex-menu-2-x-styledLink vtex-menu-2-x-styledLink--menu-link-desktop-submenu no-underline pointer t-body c-on-base pointer'}\n",
      "{'href': '/joyeria/c', 'id': 'menu-item-desktop-joyeria', 'blockclass': 'menu-link-desktop-submenu', 'title': 'Joyería', 'class': 'vtex-menu-2-x-styledLink vtex-menu-2-x-styledLink--menu-link-desktop-submenu no-underline pointer t-body c-on-base pointer'}\n",
      "{'href': '/ofertas/', 'id': 'menu-item-desktop-regalos', 'blockclass': 'menu-link-desktop', 'title': 'Promociones', 'class': 'vtex-menu-2-x-styledLink vtex-menu-2-x-styledLink--menu-link-desktop no-underline pointer t-body c-on-base pointer'}\n",
      "{'href': 'https://belcorp.esika.com/pe/catalogo-virtual/', 'id': 'menu-item-desktop-catalogo-digital', 'blockclass': 'menu-link-desktop', 'src': '', 'link': '[object Object]', 'alt': '', 'title': 'Catálogo Digital', 'analyticsproperties': 'none', 'class': 'vtex-menu-2-x-styledLink vtex-menu-2-x-styledLink--menu-link-desktop no-underline pointer t-body c-on-base pointer'}\n",
      "{'href': '#', 'class': 'vtex-store-link-0-x-link vtex-store-link-0-x-link--notfound-link-goback-home'}\n"
     ]
    }
   ],
   "source": [
    "for img in root.iter('a'):\n",
    "    print(img.attrib)"
   ]
  },
  {
   "attachments": {},
   "cell_type": "markdown",
   "metadata": {},
   "source": [
    "* `Element.findall()` finds only elements with a tag which are direct children of the current element.\n",
    "* `Element.find()` finds the first child with a particular tag\n",
    "* `Element.attrib` return in a dict the attributes and their values of current particular.\n",
    "  * Once we check the attributes of the element we can use `Element.get()` to extract the value of the element’s attribute.\n",
    "* `Element.text` accesses the element’s text content. "
   ]
  },
  {
   "cell_type": "code",
   "execution_count": 11,
   "metadata": {},
   "outputs": [
    {
     "name": "stdout",
     "output_type": "stream",
     "text": [
      "* ATTRIBUTES: -> body {'class': 'bg-base'}\n",
      "* Get the attribute CLASS:  -> bg-base\n",
      "* Get the TEXT: -> \n",
      "  \n",
      "* Get the CHILDREN: -> [<Element div at 0x1bee4e80220>, <Element div at 0x1bee4e80270>, <Element script at 0x1bee4e802c0>, <Element script at 0x1bee4e80310>, <Element script at 0x1bee4e80360>, <Element template at 0x1bee4e803b0>, <Element template at 0x1bee4e80400>, <Element template at 0x1bee4e80450>, <Element template at 0x1bee4e804a0>, <Element script at 0x1bee4e804f0>, <Element script at 0x1bee4e80540>, <Element script at 0x1bee4e80590>, <Element script at 0x1bee4e805e0>, <Element script at 0x1bee4e80630>, <Element script at 0x1bee4e80680>, <Element script at 0x1bee4e806d0>, <Element script at 0x1bee4e80720>, <Element script at 0x1bee4e80770>, <Element script at 0x1bee4e807c0>, <Element script at 0x1bee4e80810>, <Element script at 0x1bee4e80860>, <Element script at 0x1bee4e808b0>, <Element script at 0x1bee4e80900>, <Element script at 0x1bee4e80950>, <Element script at 0x1bee4e809a0>, <Element script at 0x1bee4e809f0>, <Element script at 0x1bee4e80a40>, <Element script at 0x1bee4e80a90>, <Element script at 0x1bee4e80ae0>, <Element script at 0x1bee4e80b30>, <Element script at 0x1bee4e80b80>, <Element script at 0x1bee4e80bd0>, <Element script at 0x1bee4e80c20>, <Element script at 0x1bee4e80c70>, <Element script at 0x1bee4e80cc0>, <Element script at 0x1bee4e80d10>, <Element script at 0x1bee4e80d60>, <Element script at 0x1bee4e80db0>, <Element script at 0x1bee4e80e00>]\n"
     ]
    }
   ],
   "source": [
    "for elt_class in root.findall('body'):   # the only tag children is body for root\n",
    "    print('* ATTRIBUTES: ->'.ljust(15) ,elt_class.tag, elt_class.attrib)\n",
    "    print('* Get the attribute CLASS:  ->'.ljust(15),elt_class.get('class'))\n",
    "    print('* Get the TEXT: ->'.ljust(15),elt_class.text)\n",
    "    print('* Get the CHILDREN: ->'.ljust(15), elt_class.getchildren()) # To obtain all direct children for body's elements"
   ]
  },
  {
   "cell_type": "code",
   "execution_count": 12,
   "metadata": {},
   "outputs": [
    {
     "name": "stdout",
     "output_type": "stream",
     "text": [
      "For the tag Name:  body\n",
      "> Tag Name div and their attributes {'id': 'styles_iconpack', 'style': 'display:none'}\n",
      "> Tag Name div and their attributes {'class': 'render-container render-route-store-not-found-product'}\n"
     ]
    }
   ],
   "source": [
    "elements_body = root.findall('body')            # The only tag children is body for root\n",
    "\n",
    "for el_body in elements_body:                   # For each element body\n",
    "    print('For the tag Name: ',el_body.tag)\n",
    "    elements_div = el_body.findall('div')       # find all children div\n",
    "    for i, el_div in enumerate(elements_div):   \n",
    "        print(f'> Tag Name {el_div.tag} and their attributes {el_div.attrib}')"
   ]
  },
  {
   "attachments": {},
   "cell_type": "markdown",
   "metadata": {},
   "source": [
    "## XPath support"
   ]
  },
  {
   "attachments": {},
   "cell_type": "markdown",
   "metadata": {},
   "source": [
    "XPath (XML  Path Language) is a language to support queries or transformation of XML documents.\n",
    "\n",
    "Web browswer support  XML, so it can support XPath, then it can used to extract some information.\n",
    "\n",
    "In the console of a browser we can pass this code `$x(\"...\")`, obviously changing the 3 dots by the XPath"
   ]
  },
  {
   "attachments": {},
   "cell_type": "markdown",
   "metadata": {},
   "source": [
    "* Selector description  XPath Selector\n",
    "* Select all links        `'//a'`\n",
    "* Select div with class \"main\"  `'//div[@class=\"main\"]'`\n",
    "* Select ul with ID \"list\"  `'//ul[@id=\"list\"]'`\n",
    "* Select text from all paragraphs  `'//p/text()'`\n",
    "* Select all divs which contain 'test' in the class  `'//div[contains(@class, 'test')]'`\n",
    "* Select all divs with links or lists in them `'//div[a|ul] '`\n",
    "* Select a link with google.com in the href  `'//a[contains(@href, \"google.com\")]'`\n",
    "* Select the links that no contains google.com in the href  `'//a[not(contains(@href, \"google.com\"))]'`\n",
    "* Get specifically data from src `'//td/img/(@src)'`"
   ]
  },
  {
   "cell_type": "markdown",
   "metadata": {},
   "source": []
  },
  {
   "cell_type": "markdown",
   "metadata": {},
   "source": [
    "and, or\n",
    "* Select the links that no contains google.com in the href  `'//a[not(contains(@href, \"google.com\"))]'`  "
   ]
  },
  {
   "attachments": {},
   "cell_type": "markdown",
   "metadata": {},
   "source": [
    "https://www.w3schools.com/xml/xpath_examples.asp"
   ]
  },
  {
   "cell_type": "code",
   "execution_count": 13,
   "metadata": {},
   "outputs": [],
   "source": [
    "import re\n",
    "from pathlib import Path"
   ]
  },
  {
   "cell_type": "code",
   "execution_count": 14,
   "metadata": {},
   "outputs": [],
   "source": [
    "links = set()\n",
    "for element in root.xpath('//img'):\n",
    "    if element.get('data-src'):\n",
    "        if re.search(r'.*http.*\\.jpg$', element.get('data-src')):\n",
    "            link = re.search(r'.*(http.*\\.jpg$)', element.get('data-src')).group(1)\n",
    "            links.add(link)"
   ]
  },
  {
   "cell_type": "code",
   "execution_count": 15,
   "metadata": {},
   "outputs": [],
   "source": [
    "for element in root.xpath('//h1[@class=\"name\"]'):\n",
    "    print(element.text.strip())"
   ]
  },
  {
   "attachments": {},
   "cell_type": "markdown",
   "metadata": {},
   "source": [
    "* contains"
   ]
  },
  {
   "cell_type": "code",
   "execution_count": 16,
   "metadata": {},
   "outputs": [],
   "source": [
    "for element in root.xpath('//div[contains(@class,\"simple-price\")]'): # we can use and and or \n",
    "    for el_chil in element.getchildren():\n",
    "        if el_chil.text:\n",
    "            print(el_chil.get('class'),el_chil.text.strip())"
   ]
  },
  {
   "attachments": {},
   "cell_type": "markdown",
   "metadata": {},
   "source": [
    "* starts-with"
   ]
  },
  {
   "cell_type": "code",
   "execution_count": 17,
   "metadata": {},
   "outputs": [],
   "source": [
    "Xpath=\"//label[starts-with(@id,'message')]\""
   ]
  },
  {
   "cell_type": "code",
   "execution_count": 18,
   "metadata": {},
   "outputs": [
    {
     "name": "stdout",
     "output_type": "stream",
     "text": [
      "html\n",
      "|---> head\n",
      "|--->|---> meta\n",
      "|--->|---> meta\n",
      "|--->|---> meta\n",
      "|--->|---> link\n",
      "|--->|---> noscript\n",
      "|--->|---> template\n",
      "|--->|--->|---> link\n",
      "|--->|--->|---> link\n",
      "|--->|--->|---> link\n",
      "|--->|--->|---> link\n",
      "|--->|--->|---> link\n",
      "|--->|--->|---> link\n",
      "|--->|--->|---> link\n",
      "|--->|--->|---> noscript\n",
      "|--->|--->|---> link\n",
      "|--->|--->|---> link\n",
      "|--->|--->|---> link\n",
      "|--->|--->|---> link\n",
      "|--->|--->|---> link\n",
      "|--->|--->|---> link\n",
      "|--->|--->|---> link\n",
      "|--->|--->|---> link\n",
      "|--->|--->|---> link\n",
      "|--->|--->|---> link\n",
      "|--->|--->|---> link\n",
      "|--->|--->|---> link\n",
      "|--->|--->|---> link\n",
      "|--->|--->|---> link\n",
      "|--->|--->|---> link\n",
      "|--->|--->|---> link\n",
      "|--->|--->|---> noscript\n",
      "|--->|--->|---> link\n",
      "|--->|--->|---> link\n",
      "|--->|--->|---> link\n",
      "|--->|--->|---> link\n",
      "|--->|--->|---> link\n",
      "|--->|--->|---> link\n",
      "|--->|---> script\n",
      "|--->|---> <cyfunction Comment at 0x000001BEE36E2F60>\n",
      "|--->|---> meta\n",
      "|--->|---> <cyfunction Comment at 0x000001BEE36E2F60>\n",
      "|--->|---> <cyfunction Comment at 0x000001BEE36E2F60>\n",
      "|--->|---> template\n",
      "|--->|--->|---> script\n",
      "|--->|---> script\n",
      "|--->|---> <cyfunction Comment at 0x000001BEE36E2F60>\n",
      "|--->|---> <cyfunction Comment at 0x000001BEE36E2F60>\n",
      "|--->|---> script\n",
      "|--->|---> script\n",
      "|--->|---> <cyfunction Comment at 0x000001BEE36E2F60>\n",
      "|--->|---> <cyfunction Comment at 0x000001BEE36E2F60>\n",
      "|--->|---> script\n",
      "|--->|---> <cyfunction Comment at 0x000001BEE36E2F60>\n",
      "|--->|---> <cyfunction Comment at 0x000001BEE36E2F60>\n",
      "|--->|---> script\n",
      "|--->|---> <cyfunction Comment at 0x000001BEE36E2F60>\n",
      "|--->|---> <cyfunction Comment at 0x000001BEE36E2F60>\n",
      "|--->|---> <cyfunction Comment at 0x000001BEE36E2F60>\n",
      "|--->|---> script\n",
      "|--->|---> <cyfunction Comment at 0x000001BEE36E2F60>\n",
      "|--->|---> title\n",
      "|--->|---> meta\n",
      "|--->|---> meta\n",
      "|--->|---> meta\n",
      "|--->|---> meta\n",
      "|--->|---> meta\n",
      "|--->|---> meta\n",
      "|--->|---> meta\n",
      "|--->|---> meta\n",
      "|--->|---> link\n",
      "|--->|---> link\n",
      "|--->|---> link\n",
      "|--->|---> link\n",
      "|--->|---> link\n",
      "|--->|---> link\n",
      "|--->|---> link\n",
      "|---> body\n",
      "|--->|---> div\n",
      "|--->|--->|---> svg\n",
      "|--->|---> div\n",
      "|--->|--->|---> div\n",
      "|--->|---> script\n",
      "|--->|---> script\n",
      "|--->|---> script\n",
      "|--->|---> template\n",
      "|--->|--->|---> script\n",
      "|--->|---> template\n",
      "|--->|--->|---> script\n",
      "|--->|---> template\n",
      "|--->|--->|---> script\n",
      "|--->|---> template\n",
      "|--->|--->|---> script\n",
      "|--->|---> script\n",
      "|--->|---> script\n",
      "|--->|---> script\n",
      "|--->|---> script\n",
      "|--->|---> script\n",
      "|--->|---> script\n",
      "|--->|---> script\n",
      "|--->|---> script\n",
      "|--->|---> script\n",
      "|--->|---> script\n",
      "|--->|---> script\n",
      "|--->|---> script\n",
      "|--->|---> script\n",
      "|--->|---> script\n",
      "|--->|---> script\n",
      "|--->|---> script\n",
      "|--->|---> script\n",
      "|--->|---> script\n",
      "|--->|---> script\n",
      "|--->|---> script\n",
      "|--->|---> script\n",
      "|--->|---> script\n",
      "|--->|---> script\n",
      "|--->|---> script\n",
      "|--->|---> script\n",
      "|--->|---> script\n",
      "|--->|---> script\n",
      "|--->|---> script\n",
      "|--->|---> script\n",
      "|--->|---> script\n"
     ]
    }
   ],
   "source": [
    "top_elements= root.xpath('.') # top elements\n",
    "for el_0 in top_elements:\n",
    "    print(el_0.tag)\n",
    "    for el_1 in el_0.getchildren():\n",
    "        print('|--->',el_1.tag)\n",
    "        for el_2 in el_1.getchildren():\n",
    "            print('|--->'*2,el_2.tag)\n",
    "            for el_3 in el_2.getchildren():\n",
    "                print('|--->'*3,el_3.tag)"
   ]
  },
  {
   "cell_type": "code",
   "execution_count": 19,
   "metadata": {},
   "outputs": [],
   "source": [
    "elements = root.xpath('/html/body/main/div[3]/div[1]/div/div[3]/div[3]/div') \n",
    "\n",
    "for el_0 in elements:\n",
    "    print('Tag: ', el_0.tag)          # print the actual tag\n",
    "    print('Attributes: ', el_0.attrib)       # print their attributes\n",
    "    print('Childrens: ' , el_0.xpath('./*')) # print their children\n",
    "    for el_1 in el_0.xpath('.//ul'):\n",
    "        for el_2 in el_1.xpath('.//div[contains(@style,\"background\") and contains(@class,\"category\")]'):\n",
    "            print('|---->' , el_2.attrib)"
   ]
  },
  {
   "cell_type": "code",
   "execution_count": 12,
   "metadata": {},
   "outputs": [
    {
     "name": "stdout",
     "output_type": "stream",
     "text": [
      "a\n",
      "{'href': 'javascript:ConsultaPorEncuesta()'}\n",
      "[]\n",
      "a\n",
      "{'href': 'javascript:ConsultaPorEncuesta()'}\n"
     ]
    },
    {
     "ename": "IndexError",
     "evalue": "list index out of range",
     "output_type": "error",
     "traceback": [
      "\u001b[1;31m---------------------------------------------------------------------------\u001b[0m",
      "\u001b[1;31mIndexError\u001b[0m                                Traceback (most recent call last)",
      "\u001b[1;32m~\\AppData\\Local\\Temp/ipykernel_14792/3019367921.py\u001b[0m in \u001b[0;36m<module>\u001b[1;34m\u001b[0m\n\u001b[0;32m     17\u001b[0m \u001b[0mtree\u001b[0m \u001b[1;33m=\u001b[0m \u001b[0mfromstring\u001b[0m\u001b[1;33m(\u001b[0m\u001b[0mpage\u001b[0m\u001b[1;33m.\u001b[0m\u001b[0mdecode\u001b[0m\u001b[1;33m(\u001b[0m\u001b[1;33m)\u001b[0m\u001b[1;33m)\u001b[0m\u001b[1;33m\u001b[0m\u001b[1;33m\u001b[0m\u001b[0m\n\u001b[0;32m     18\u001b[0m \u001b[1;33m\u001b[0m\u001b[0m\n\u001b[1;32m---> 19\u001b[1;33m \u001b[0mtree\u001b[0m\u001b[1;33m.\u001b[0m\u001b[0mxpath\u001b[0m\u001b[1;33m(\u001b[0m\u001b[1;34m'//select[contains(@name, \"cmbAnno\")]'\u001b[0m\u001b[1;33m)\u001b[0m\u001b[1;33m[\u001b[0m\u001b[1;36m0\u001b[0m\u001b[1;33m]\u001b[0m\u001b[1;33m.\u001b[0m\u001b[0mattrib\u001b[0m\u001b[1;33m\u001b[0m\u001b[1;33m\u001b[0m\u001b[0m\n\u001b[0m\u001b[0;32m     20\u001b[0m \u001b[1;33m\u001b[0m\u001b[0m\n\u001b[0;32m     21\u001b[0m \u001b[0mtree\u001b[0m\u001b[1;33m.\u001b[0m\u001b[0mxpath\u001b[0m\u001b[1;33m(\u001b[0m\u001b[1;34m'//select[contains(@name, \"cmbAnno\")]//option[contains(@value, \"2010\")]'\u001b[0m\u001b[1;33m)\u001b[0m\u001b[1;33m[\u001b[0m\u001b[1;36m0\u001b[0m\u001b[1;33m]\u001b[0m\u001b[1;33m.\u001b[0m\u001b[0mattrib\u001b[0m\u001b[1;33m\u001b[0m\u001b[1;33m\u001b[0m\u001b[0m\n",
      "\u001b[1;31mIndexError\u001b[0m: list index out of range"
     ]
    }
   ],
   "source": [
    "response = requests.get(config['INEI_PATH'])\n",
    "tree = fromstring(response.text)\n",
    "elements = tree.xpath('//html/body//ul//li//a[contains(@href,\"ConsultaPorEncuesta\")]')\n",
    "\n",
    "for element in elements:\n",
    "    print(element.tag)\n",
    "    print(element.attrib)\n",
    "\n",
    "    print(element.findall('li'))\n",
    "    print(element.tag)\n",
    "    print(element.attrib)\n",
    "\n",
    "\n",
    "with open('page.txt', 'rb') as reader:\n",
    "    page = reader.read()\n",
    "\n",
    "tree = fromstring(page.decode())\n",
    "\n",
    "tree.xpath('//select[contains(@name, \"cmbAnno\")]')[0].attrib\n",
    "\n",
    "tree.xpath('//select[contains(@name, \"cmbAnno\")]//option[contains(@value, \"2010\")]')[0].attrib\n",
    "\n",
    "tree.xpath('//select[contains(@name, \"cmbTrimestre\")]')[0].attrib\n",
    "\n",
    "tree.xpath('//select[contains(@name, \"cmbTrimestre\")]//option[contains(@value, \"55\")]')[0].attrib\n",
    "\n",
    "tree.xpath('//td//a[contains(@href, \"03.zip\") and contains(@href, \"SPSS\")]')[0].attrib"
   ]
  },
  {
   "cell_type": "code",
   "execution_count": 1,
   "metadata": {},
   "outputs": [],
   "source": [
    "with open('./metro-page/Panadería y Pastelería_ Comprar Panes, Pasteles, Tortas.html', 'r', encoding='utf-8') as page:\n",
    "    page_web = page.read()\n",
    "\n",
    "root = fromstring(page_web)\n",
    "xpath = '//div[@id=\"js-menu-container\"]/div/a'\n",
    "container = []\n",
    "\n",
    "for item in root.xpath(xpath):\n",
    "    for child in item.getchildren():\n",
    "        base = {}\n",
    "        base['name'] = child.text\n",
    "        base['link'] = \"./\"+item.get('href').split('/')[-1]\n",
    "        container.append(base)"
   ]
  },
  {
   "cell_type": "code",
   "execution_count": null,
   "metadata": {},
   "outputs": [],
   "source": []
  }
 ],
 "metadata": {
  "kernelspec": {
   "display_name": "Python 3.9.7 ('base')",
   "language": "python",
   "name": "python3"
  },
  "language_info": {
   "codemirror_mode": {
    "name": "ipython",
    "version": 3
   },
   "file_extension": ".py",
   "mimetype": "text/x-python",
   "name": "python",
   "nbconvert_exporter": "python",
   "pygments_lexer": "ipython3",
   "version": "3.10.9"
  },
  "orig_nbformat": 4,
  "vscode": {
   "interpreter": {
    "hash": "7679c2132d3f6ce38c9df14d554b39c06862b36a4e6689c81f9ae15bd0911d7d"
   }
  }
 },
 "nbformat": 4,
 "nbformat_minor": 2
}
