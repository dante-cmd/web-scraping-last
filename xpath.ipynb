{
 "cells": [
  {
   "attachments": {},
   "cell_type": "markdown",
   "metadata": {},
   "source": [
    "# Pull data out from HTML files "
   ]
  },
  {
   "attachments": {},
   "cell_type": "markdown",
   "metadata": {},
   "source": [
    "### HTML - Xpath"
   ]
  },
  {
   "cell_type": "markdown",
   "metadata": {},
   "source": [
    "An agent (browser) convert a document to *DOM*. This convertions allow us search an especifict node "
   ]
  },
  {
   "attachments": {},
   "cell_type": "markdown",
   "metadata": {
    "vscode": {
     "languageId": "plaintext"
    }
   },
   "source": [
    "The most natural way to represent it is with a `tree`.\n",
    "\n",
    "ET has two classes for this purpose \n",
    "  - `ElementTree` that represents the whole XML document as a tree, and \n",
    "  - `Element` that represents a single node in this tree. \n",
    "\n",
    "Interactions with the `whole document` (reading and writing to/from files) are usually done on the `ElementTree` level. \n",
    "\n",
    "Interactions with a `single XML element` and its sub-elements are done on the `Element` level."
   ]
  },
  {
   "cell_type": "code",
   "execution_count": 66,
   "metadata": {},
   "outputs": [],
   "source": [
    "from lxml.html import fromstring, tostring, parse\n",
    "import requests\n",
    "from pathlib import Path\n",
    "from urllib.parse import urljoin, urlparse, urlsplit\n",
    "from dotenv import dotenv_values\n",
    "import re\n",
    "from operator import getitem\n",
    "from collections import namedtuple\n",
    "import pandas as pd"
   ]
  },
  {
   "cell_type": "markdown",
   "metadata": {},
   "source": [
    "How to extract information about some products from a html and save the data in a dataframe using `XPATH`"
   ]
  },
  {
   "cell_type": "code",
   "execution_count": 69,
   "metadata": {},
   "outputs": [],
   "source": [
    "root = parse('Comprar Productos Lácteos_ Yogurt, Leche y más.html')"
   ]
  },
  {
   "cell_type": "markdown",
   "metadata": {},
   "source": [
    "`parse` is a method of the `lxml.html` module that parses an HTML document from *name_file* or *url*. `fromstring` parses an HTML document from a string. At least the document must have html element, and body\n",
    "\n",
    "Recall, *parsing* is the process of taking raw HTML code, reading it, and generating a `DOM tree` object structure from it. This allow us search nodes based on xpath.\n",
    "\n",
    "For this example, we have downloaded the html of a online store of Peruvian supermarket and we will extract some information like price, name, sku and so on."
   ]
  },
  {
   "cell_type": "code",
   "execution_count": 70,
   "metadata": {},
   "outputs": [],
   "source": [
    "target_node = root.xpath(\"//div[contains(@class,'product-shelf') and contains(@class,'n18colunas')]\")"
   ]
  },
  {
   "cell_type": "code",
   "execution_count": 71,
   "metadata": {},
   "outputs": [],
   "source": [
    "target_node_value = getitem(target_node, 0)"
   ]
  },
  {
   "cell_type": "code",
   "execution_count": 109,
   "metadata": {},
   "outputs": [],
   "source": [
    "array_products = target_node_value.xpath(\n",
    "\"ul/li/div[contains(@class, 'product-item') and not(contains(@class, 'product-item__cart-amount'))]\"\n",
    ")"
   ]
  },
  {
   "cell_type": "code",
   "execution_count": 110,
   "metadata": {},
   "outputs": [],
   "source": [
    "Product = namedtuple('Product', ['class_name', 'data_name', 'data_price', 'data_brand', 'data_sku'])"
   ]
  },
  {
   "cell_type": "code",
   "execution_count": 111,
   "metadata": {},
   "outputs": [],
   "source": [
    "array_data_products = []\n",
    "for item_product in array_products:\n",
    "    product_facts = Product(\n",
    "        class_name=item_product.get('class'),\n",
    "        data_name=item_product.get('data-name'),\n",
    "        data_price=item_product.get('data-price'),\n",
    "        data_brand=item_product.get('data-brand'),\n",
    "        data_sku=item_product.get('data-sku')\n",
    "    )\n",
    "    array_data_products.append(product_facts)"
   ]
  },
  {
   "cell_type": "code",
   "execution_count": 112,
   "metadata": {},
   "outputs": [],
   "source": [
    "dataset_products = pd.DataFrame(array_data_products)"
   ]
  },
  {
   "cell_type": "code",
   "execution_count": 113,
   "metadata": {},
   "outputs": [
    {
     "data": {
      "text/html": [
       "<div>\n",
       "<style scoped>\n",
       "    .dataframe tbody tr th:only-of-type {\n",
       "        vertical-align: middle;\n",
       "    }\n",
       "\n",
       "    .dataframe tbody tr th {\n",
       "        vertical-align: top;\n",
       "    }\n",
       "\n",
       "    .dataframe thead th {\n",
       "        text-align: right;\n",
       "    }\n",
       "</style>\n",
       "<table border=\"1\" class=\"dataframe\">\n",
       "  <thead>\n",
       "    <tr style=\"text-align: right;\">\n",
       "      <th></th>\n",
       "      <th>class_name</th>\n",
       "      <th>data_name</th>\n",
       "      <th>data_price</th>\n",
       "      <th>data_brand</th>\n",
       "      <th>data_sku</th>\n",
       "    </tr>\n",
       "  </thead>\n",
       "  <tbody>\n",
       "    <tr>\n",
       "      <th>0</th>\n",
       "      <td>product-item product-item--572685 gotten-produ...</td>\n",
       "      <td>Sixpack Leche Concentrada Sin Lactosa Laive Bo...</td>\n",
       "      <td>S/. 24.95</td>\n",
       "      <td>Laive</td>\n",
       "      <td>39170436</td>\n",
       "    </tr>\n",
       "    <tr>\n",
       "      <th>1</th>\n",
       "      <td>product-item product-item--5421 gotten-product...</td>\n",
       "      <td>Yogurt Parcialmente Descremado Gloria Fresa Ga...</td>\n",
       "      <td>S/. 10.90</td>\n",
       "      <td>Gloria</td>\n",
       "      <td>5423</td>\n",
       "    </tr>\n",
       "    <tr>\n",
       "      <th>2</th>\n",
       "      <td>product-item product-item--4236 gotten-product...</td>\n",
       "      <td>Mantequilla con Sal Gloria 390g</td>\n",
       "      <td>S/. 21.50</td>\n",
       "      <td>Gloria</td>\n",
       "      <td>4238</td>\n",
       "    </tr>\n",
       "    <tr>\n",
       "      <th>3</th>\n",
       "      <td>product-item product-item--1021949 gotten-prod...</td>\n",
       "      <td>Sixpack Leche Ultrafiltrada Gloria Sin Lactosa...</td>\n",
       "      <td>S/. 25.80</td>\n",
       "      <td>Gloria</td>\n",
       "      <td>39257749</td>\n",
       "    </tr>\n",
       "    <tr>\n",
       "      <th>4</th>\n",
       "      <td>product-item product-item--1019717 gotten-prod...</td>\n",
       "      <td>Margarina Sello de Oro 200g</td>\n",
       "      <td>S/. 4.20</td>\n",
       "      <td>Sello de Oro</td>\n",
       "      <td>39255525</td>\n",
       "    </tr>\n",
       "  </tbody>\n",
       "</table>\n",
       "</div>"
      ],
      "text/plain": [
       "                                          class_name  \\\n",
       "0  product-item product-item--572685 gotten-produ...   \n",
       "1  product-item product-item--5421 gotten-product...   \n",
       "2  product-item product-item--4236 gotten-product...   \n",
       "3  product-item product-item--1021949 gotten-prod...   \n",
       "4  product-item product-item--1019717 gotten-prod...   \n",
       "\n",
       "                                           data_name data_price    data_brand  \\\n",
       "0  Sixpack Leche Concentrada Sin Lactosa Laive Bo...  S/. 24.95         Laive   \n",
       "1  Yogurt Parcialmente Descremado Gloria Fresa Ga...  S/. 10.90        Gloria   \n",
       "2                    Mantequilla con Sal Gloria 390g  S/. 21.50        Gloria   \n",
       "3  Sixpack Leche Ultrafiltrada Gloria Sin Lactosa...  S/. 25.80        Gloria   \n",
       "4                        Margarina Sello de Oro 200g   S/. 4.20  Sello de Oro   \n",
       "\n",
       "   data_sku  \n",
       "0  39170436  \n",
       "1      5423  \n",
       "2      4238  \n",
       "3  39257749  \n",
       "4  39255525  "
      ]
     },
     "execution_count": 113,
     "metadata": {},
     "output_type": "execute_result"
    }
   ],
   "source": [
    "dataset_products.head()"
   ]
  },
  {
   "cell_type": "code",
   "execution_count": 59,
   "metadata": {},
   "outputs": [],
   "source": [
    "config = dotenv_values('./env/.env')"
   ]
  },
  {
   "cell_type": "code",
   "execution_count": 102,
   "metadata": {},
   "outputs": [],
   "source": [
    "user_agent = 'Mozilla/5.0'\n",
    "\n",
    "response = requests.get(\n",
    "    config['ESIKA_PATH'], \n",
    "    headers={'User-agent': user_agent})\n",
    "\n",
    "root = fromstring(response.text)"
   ]
  },
  {
   "attachments": {},
   "cell_type": "markdown",
   "metadata": {},
   "source": [
    "As an Element (node in a DOM), root has a tag and a dictionary of attributes\n",
    "\n",
    "- `element.tag`\n",
    "- `element.attrib`\n",
    "- `element.get(\"name_of_attrib\")`"
   ]
  },
  {
   "cell_type": "code",
   "execution_count": 103,
   "metadata": {},
   "outputs": [
    {
     "name": "stdout",
     "output_type": "stream",
     "text": [
      "Tag name current: html\n",
      "Attributes of Tag name current:  {'lang': 'es-PE'}\n",
      "Get the attribute LANG: es-PE\n"
     ]
    }
   ],
   "source": [
    "print('Tag name current:', root.tag)\n",
    "print('Attributes of Tag name current: ',root.attrib)\n",
    "print(\"Get the attribute LANG:\" , root.get(\"lang\"))"
   ]
  },
  {
   "attachments": {},
   "cell_type": "markdown",
   "metadata": {},
   "source": [
    "Element has some useful methods that help iterate recursively over all the sub-tree below it (its children, their children, and so on)\n",
    "\n",
    "For example, `Element.iter()`"
   ]
  },
  {
   "cell_type": "code",
   "execution_count": 101,
   "metadata": {},
   "outputs": [
    {
     "name": "stdout",
     "output_type": "stream",
     "text": [
      "244545-150-auto?v=638167518158970000&width=150&height=auto&aspect=true\n",
      "244544-150-auto?v=638167518157400000&width=150&height=auto&aspect=true\n",
      "244546-150-auto?v=638167518162230000&width=150&height=auto&aspect=true\n",
      "244547-150-auto?v=638167518164430000&width=150&height=auto&aspect=true\n",
      "244548-150-auto?v=638167518166770000&width=150&height=auto&aspect=true\n",
      "244549-150-auto?v=638167518168930000&width=150&height=auto&aspect=true\n",
      "244545-800-auto?v=638167518158970000&width=800&height=auto&aspect=true\n",
      "244544-800-auto?v=638167518157400000&width=800&height=auto&aspect=true\n",
      "244546-800-auto?v=638167518162230000&width=800&height=auto&aspect=true\n",
      "244547-800-auto?v=638167518164430000&width=800&height=auto&aspect=true\n",
      "244548-800-auto?v=638167518166770000&width=800&height=auto&aspect=true\n",
      "244549-800-auto?v=638167518168930000&width=800&height=auto&aspect=true\n"
     ]
    }
   ],
   "source": [
    "for img in root.iter('img'):\n",
    "    src_img = img.get('src')\n",
    "    if src_img:\n",
    "        print(getitem(src_img.split('/'), -1))"
   ]
  },
  {
   "attachments": {},
   "cell_type": "markdown",
   "metadata": {},
   "source": [
    "* `Element.findall()` finds only elements with a tag which are direct children of the current element.\n",
    "* `Element.find()` finds the first child with a particular tag\n",
    "* `Element.attrib` return in a dict the attributes and their values of current particular.\n",
    "  * Once we check the attributes of the element we can use `Element.get()` to extract the value of the element’s attribute.\n",
    "* `Element.text` accesses the element’s text content. "
   ]
  },
  {
   "cell_type": "code",
   "execution_count": 11,
   "metadata": {},
   "outputs": [
    {
     "name": "stdout",
     "output_type": "stream",
     "text": [
      "* ATTRIBUTES: -> body {'class': 'bg-base'}\n",
      "* Get the attribute CLASS:  -> bg-base\n",
      "* Get the TEXT: -> \n",
      "  \n",
      "* Get the CHILDREN: -> [<Element div at 0x1bee4e80220>, <Element div at 0x1bee4e80270>, <Element script at 0x1bee4e802c0>, <Element script at 0x1bee4e80310>, <Element script at 0x1bee4e80360>, <Element template at 0x1bee4e803b0>, <Element template at 0x1bee4e80400>, <Element template at 0x1bee4e80450>, <Element template at 0x1bee4e804a0>, <Element script at 0x1bee4e804f0>, <Element script at 0x1bee4e80540>, <Element script at 0x1bee4e80590>, <Element script at 0x1bee4e805e0>, <Element script at 0x1bee4e80630>, <Element script at 0x1bee4e80680>, <Element script at 0x1bee4e806d0>, <Element script at 0x1bee4e80720>, <Element script at 0x1bee4e80770>, <Element script at 0x1bee4e807c0>, <Element script at 0x1bee4e80810>, <Element script at 0x1bee4e80860>, <Element script at 0x1bee4e808b0>, <Element script at 0x1bee4e80900>, <Element script at 0x1bee4e80950>, <Element script at 0x1bee4e809a0>, <Element script at 0x1bee4e809f0>, <Element script at 0x1bee4e80a40>, <Element script at 0x1bee4e80a90>, <Element script at 0x1bee4e80ae0>, <Element script at 0x1bee4e80b30>, <Element script at 0x1bee4e80b80>, <Element script at 0x1bee4e80bd0>, <Element script at 0x1bee4e80c20>, <Element script at 0x1bee4e80c70>, <Element script at 0x1bee4e80cc0>, <Element script at 0x1bee4e80d10>, <Element script at 0x1bee4e80d60>, <Element script at 0x1bee4e80db0>, <Element script at 0x1bee4e80e00>]\n"
     ]
    }
   ],
   "source": [
    "for elt_class in root.findall('body'):   # the only tag children is body for root\n",
    "    print('* ATTRIBUTES: ->'.ljust(15) ,elt_class.tag, elt_class.attrib)\n",
    "    print('* Get the attribute CLASS:  ->'.ljust(15),elt_class.get('class'))\n",
    "    print('* Get the TEXT: ->'.ljust(15),elt_class.text)\n",
    "    print('* Get the CHILDREN: ->'.ljust(15), elt_class.getchildren()) # To obtain all direct children for body's elements"
   ]
  },
  {
   "cell_type": "code",
   "execution_count": 12,
   "metadata": {},
   "outputs": [
    {
     "name": "stdout",
     "output_type": "stream",
     "text": [
      "For the tag Name:  body\n",
      "> Tag Name div and their attributes {'id': 'styles_iconpack', 'style': 'display:none'}\n",
      "> Tag Name div and their attributes {'class': 'render-container render-route-store-not-found-product'}\n"
     ]
    }
   ],
   "source": [
    "elements_body = root.findall('body')            # The only tag children is body for root\n",
    "\n",
    "for el_body in elements_body:                   # For each element body\n",
    "    print('For the tag Name: ',el_body.tag)\n",
    "    elements_div = el_body.findall('div')       # find all children div\n",
    "    for i, el_div in enumerate(elements_div):   \n",
    "        print(f'> Tag Name {el_div.tag} and their attributes {el_div.attrib}')"
   ]
  },
  {
   "attachments": {},
   "cell_type": "markdown",
   "metadata": {},
   "source": [
    "## XPath support"
   ]
  },
  {
   "attachments": {},
   "cell_type": "markdown",
   "metadata": {},
   "source": [
    "XPath (XML  Path Language) is a language to support queries or transformation of XML documents.\n",
    "\n",
    "Web browswer support  XML, so it can support XPath, then it can used to extract some information.\n",
    "\n",
    "In the console of a browser we can pass this code `$x(\"...\")`, obviously changing the 3 dots by the XPath"
   ]
  },
  {
   "attachments": {},
   "cell_type": "markdown",
   "metadata": {},
   "source": [
    "Selector description  XPath Selector\n",
    "\n",
    "* Select any child from a node \"`*`\" \n",
    "* Select only div child  \"`div`\"\n",
    "* Select all links (can be a child or its descendants)       `'//a'`\n",
    "* Select all div with class \"main\"  `'//div[@class=\"main\"]'`\n",
    "* Select all ul with ID \"list\"  `'//ul[@id=\"list\"]'`\n",
    "* Select all text from all paragraphs  `'//p/text()'`\n",
    "* Select all divs which contain 'test' in the class  `'//div[contains(@class, 'test')]'`\n",
    "* Select all divs with links or lists in them `'//div[a|ul] '`\n",
    "* Select a link with google.com in the href  `'//a[contains(@href, \"google.com\")]'`\n",
    "* Select the links that no contains google.com in the href  `'//a[not(contains(@href, \"google.com\"))]'`\n",
    "* Get specifically data from src `'//td/img/@src'`\n",
    "* Find element based on child `'//td[img[@scr=\"https:\\\\www.my_page\\my_cat.img\"]]'` \n",
    "* Get all labels that their id start with message  \"`//label[starts-with(@id,'message')]`\"\n",
    "* Get all links that no contains google.com in the href but do amazon  `'//a[not(contains(@href, \"google.com\")) and contains(@href, \"amazon\")]'`  "
   ]
  },
  {
   "cell_type": "code",
   "execution_count": 104,
   "metadata": {},
   "outputs": [],
   "source": [
    "links = set()\n",
    "for element in root.xpath('//img'):\n",
    "    if element.get('data-src'):\n",
    "        if searching := re.search(r'^http.*\\.jpg$', element.get('data-src')):\n",
    "            link = searching.group(1)\n",
    "            links.add(link)"
   ]
  },
  {
   "cell_type": "code",
   "execution_count": 118,
   "metadata": {},
   "outputs": [
    {
     "name": "stdout",
     "output_type": "stream",
     "text": [
      "html\n",
      "----|---- head\n",
      "----|--------|---- meta\n",
      "----|--------|---- meta\n",
      "----|--------|---- meta\n",
      "----|--------|---- style\n",
      "----|--------|---- script\n",
      "----|--------|---- link\n",
      "----|--------|---- noscript\n",
      "----|--------|--------|---- link\n",
      "----|--------|---- noscript\n",
      "----|--------|---- template\n",
      "----|--------|--------|---- link\n",
      "----|--------|--------|---- link\n",
      "----|--------|--------|---- link\n",
      "----|--------|--------|---- link\n",
      "----|--------|--------|---- link\n",
      "----|--------|--------|---- link\n",
      "----|--------|--------|---- link\n",
      "----|--------|--------|---- noscript\n",
      "----|--------|--------|---- link\n",
      "----|--------|--------|---- link\n",
      "----|--------|--------|---- link\n",
      "----|--------|--------|---- link\n",
      "----|--------|--------|---- link\n",
      "----|--------|--------|---- link\n",
      "----|--------|--------|---- link\n",
      "----|--------|--------|---- link\n",
      "----|--------|--------|---- link\n",
      "----|--------|--------|---- link\n",
      "----|--------|--------|---- link\n",
      "----|--------|--------|---- link\n",
      "----|--------|--------|---- link\n",
      "----|--------|--------|---- link\n",
      "----|--------|--------|---- link\n",
      "----|--------|--------|---- link\n",
      "----|--------|--------|---- link\n",
      "----|--------|--------|---- link\n",
      "----|--------|--------|---- link\n",
      "----|--------|--------|---- link\n",
      "----|--------|--------|---- link\n",
      "----|--------|--------|---- link\n",
      "----|--------|--------|---- link\n",
      "----|--------|--------|---- link\n",
      "----|--------|--------|---- link\n",
      "----|--------|--------|---- noscript\n",
      "----|--------|--------|---- link\n",
      "----|--------|--------|---- link\n",
      "----|--------|--------|---- link\n",
      "----|--------|--------|---- link\n",
      "----|--------|--------|---- link\n",
      "----|--------|--------|---- link\n",
      "----|--------|---- script\n",
      "----|--------|---- <cyfunction Comment at 0x000001CAB51E2F60>\n",
      "----|--------|---- script\n",
      "----|--------|---- script\n",
      "----|--------|---- <cyfunction Comment at 0x000001CAB51E2F60>\n",
      "----|--------|---- <cyfunction Comment at 0x000001CAB51E2F60>\n",
      "----|--------|---- template\n",
      "----|--------|--------|---- script\n",
      "----|--------|---- script\n",
      "----|--------|---- <cyfunction Comment at 0x000001CAB51E2F60>\n",
      "----|--------|---- <cyfunction Comment at 0x000001CAB51E2F60>\n",
      "----|--------|---- script\n",
      "----|--------|---- <cyfunction Comment at 0x000001CAB51E2F60>\n",
      "----|--------|---- <cyfunction Comment at 0x000001CAB51E2F60>\n",
      "----|--------|---- meta\n",
      "----|--------|---- <cyfunction Comment at 0x000001CAB51E2F60>\n",
      "----|--------|---- <cyfunction Comment at 0x000001CAB51E2F60>\n",
      "----|--------|---- script\n",
      "----|--------|---- <cyfunction Comment at 0x000001CAB51E2F60>\n",
      "----|--------|---- <cyfunction Comment at 0x000001CAB51E2F60>\n",
      "----|--------|---- <cyfunction Comment at 0x000001CAB51E2F60>\n",
      "----|--------|---- script\n",
      "----|--------|---- <cyfunction Comment at 0x000001CAB51E2F60>\n",
      "----|--------|---- title\n",
      "----|--------|---- meta\n",
      "----|--------|---- meta\n",
      "----|--------|---- meta\n",
      "----|--------|---- meta\n",
      "----|--------|---- meta\n",
      "----|--------|---- meta\n",
      "----|--------|---- meta\n",
      "----|--------|---- meta\n",
      "----|--------|---- meta\n",
      "----|--------|---- meta\n",
      "----|--------|---- meta\n",
      "----|--------|---- meta\n",
      "----|--------|---- meta\n",
      "----|--------|---- meta\n",
      "----|--------|---- meta\n",
      "----|--------|---- meta\n",
      "----|--------|---- meta\n",
      "----|--------|---- meta\n",
      "----|--------|---- meta\n",
      "----|--------|---- meta\n",
      "----|--------|---- link\n",
      "----|--------|---- link\n",
      "----|--------|---- link\n",
      "----|--------|---- link\n",
      "----|--------|---- link\n",
      "----|--------|---- link\n",
      "----|--------|---- link\n",
      "----|--------|---- link\n",
      "----|---- body\n",
      "----|--------|---- div\n",
      "----|--------|--------|---- svg\n",
      "----|--------|---- div\n",
      "----|--------|--------|---- div\n",
      "----|--------|---- script\n",
      "----|--------|---- script\n",
      "----|--------|---- script\n",
      "----|--------|---- template\n",
      "----|--------|--------|---- script\n",
      "----|--------|---- template\n",
      "----|--------|--------|---- script\n",
      "----|--------|---- template\n",
      "----|--------|--------|---- script\n",
      "----|--------|---- template\n",
      "----|--------|--------|---- script\n",
      "----|--------|---- script\n",
      "----|--------|---- script\n",
      "----|--------|---- script\n",
      "----|--------|---- script\n",
      "----|--------|---- script\n",
      "----|--------|---- script\n",
      "----|--------|---- script\n",
      "----|--------|---- script\n",
      "----|--------|---- script\n",
      "----|--------|---- script\n",
      "----|--------|---- script\n",
      "----|--------|---- script\n",
      "----|--------|---- script\n",
      "----|--------|---- script\n",
      "----|--------|---- script\n",
      "----|--------|---- script\n",
      "----|--------|---- script\n",
      "----|--------|---- script\n",
      "----|--------|---- script\n",
      "----|--------|---- script\n",
      "----|--------|---- script\n",
      "----|--------|---- script\n",
      "----|--------|---- script\n",
      "----|--------|---- script\n",
      "----|--------|---- script\n",
      "----|--------|---- script\n",
      "----|--------|---- script\n",
      "----|--------|---- script\n",
      "----|--------|---- script\n",
      "----|--------|---- script\n",
      "----|--------|---- script\n",
      "----|--------|---- script\n",
      "----|--------|---- script\n",
      "----|--------|---- script\n"
     ]
    }
   ],
   "source": [
    "top_elements= root.xpath('.') # top elements\n",
    "for el_0 in top_elements:\n",
    "    print(el_0.tag)\n",
    "    for el_1 in el_0.getchildren():\n",
    "        print('----|----',el_1.tag)\n",
    "        for el_2 in el_1.getchildren():\n",
    "            print('----|----'*2,el_2.tag)\n",
    "            for el_3 in el_2.getchildren():\n",
    "                print('----|----'*3,el_3.tag)"
   ]
  }
 ],
 "metadata": {
  "kernelspec": {
   "display_name": "Python 3.9.7 ('base')",
   "language": "python",
   "name": "python3"
  },
  "language_info": {
   "codemirror_mode": {
    "name": "ipython",
    "version": 3
   },
   "file_extension": ".py",
   "mimetype": "text/x-python",
   "name": "python",
   "nbconvert_exporter": "python",
   "pygments_lexer": "ipython3",
   "version": "3.10.9"
  },
  "orig_nbformat": 4,
  "vscode": {
   "interpreter": {
    "hash": "7679c2132d3f6ce38c9df14d554b39c06862b36a4e6689c81f9ae15bd0911d7d"
   }
  }
 },
 "nbformat": 4,
 "nbformat_minor": 2
}
